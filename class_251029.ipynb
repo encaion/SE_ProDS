{
 "cells": [
  {
   "cell_type": "code",
   "execution_count": 1,
   "id": "d4e79a25-57db-4dfa-b81b-b0b4541e3126",
   "metadata": {},
   "outputs": [],
   "source": [
    "import pandas as pd\n",
    "import numpy as np"
   ]
  },
  {
   "cell_type": "code",
   "execution_count": 3,
   "id": "adc7b29c-6634-47d8-afb3-02c4fce9f233",
   "metadata": {},
   "outputs": [
    {
     "data": {
      "text/html": [
       "<div>\n",
       "<style scoped>\n",
       "    .dataframe tbody tr th:only-of-type {\n",
       "        vertical-align: middle;\n",
       "    }\n",
       "\n",
       "    .dataframe tbody tr th {\n",
       "        vertical-align: top;\n",
       "    }\n",
       "\n",
       "    .dataframe thead th {\n",
       "        text-align: right;\n",
       "    }\n",
       "</style>\n",
       "<table border=\"1\" class=\"dataframe\">\n",
       "  <thead>\n",
       "    <tr style=\"text-align: right;\">\n",
       "      <th></th>\n",
       "      <th>v1</th>\n",
       "      <th>v2</th>\n",
       "      <th>shape</th>\n",
       "    </tr>\n",
       "  </thead>\n",
       "  <tbody>\n",
       "    <tr>\n",
       "      <th>0</th>\n",
       "      <td>100</td>\n",
       "      <td>400</td>\n",
       "      <td>A</td>\n",
       "    </tr>\n",
       "    <tr>\n",
       "      <th>1</th>\n",
       "      <td>200</td>\n",
       "      <td>500</td>\n",
       "      <td>B</td>\n",
       "    </tr>\n",
       "    <tr>\n",
       "      <th>2</th>\n",
       "      <td>300</td>\n",
       "      <td>600</td>\n",
       "      <td>C</td>\n",
       "    </tr>\n",
       "  </tbody>\n",
       "</table>\n",
       "</div>"
      ],
      "text/plain": [
       "    v1   v2 shape\n",
       "0  100  400     A\n",
       "1  200  500     B\n",
       "2  300  600     C"
      ]
     },
     "execution_count": 3,
     "metadata": {},
     "output_type": "execute_result"
    }
   ],
   "source": [
    "df_s = pd.DataFrame(dict(v1 = [100, 200, 300],\n",
    "                         v2 = [400, 500, 600],\n",
    "                         shape = [\"A\", \"B\", \"C\"]))\n",
    "df_s"
   ]
  },
  {
   "cell_type": "code",
   "execution_count": 4,
   "id": "1abdddf5-cb8d-45ee-9e21-b1001d84b26c",
   "metadata": {},
   "outputs": [
    {
     "data": {
      "text/html": [
       "<div>\n",
       "<style scoped>\n",
       "    .dataframe tbody tr th:only-of-type {\n",
       "        vertical-align: middle;\n",
       "    }\n",
       "\n",
       "    .dataframe tbody tr th {\n",
       "        vertical-align: top;\n",
       "    }\n",
       "\n",
       "    .dataframe thead th {\n",
       "        text-align: right;\n",
       "    }\n",
       "</style>\n",
       "<table border=\"1\" class=\"dataframe\">\n",
       "  <thead>\n",
       "    <tr style=\"text-align: right;\">\n",
       "      <th></th>\n",
       "      <th>v1</th>\n",
       "      <th>v2</th>\n",
       "      <th>shape</th>\n",
       "    </tr>\n",
       "  </thead>\n",
       "  <tbody>\n",
       "    <tr>\n",
       "      <th>0</th>\n",
       "      <td>100</td>\n",
       "      <td>400</td>\n",
       "      <td>A</td>\n",
       "    </tr>\n",
       "    <tr>\n",
       "      <th>1</th>\n",
       "      <td>200</td>\n",
       "      <td>500</td>\n",
       "      <td>B</td>\n",
       "    </tr>\n",
       "  </tbody>\n",
       "</table>\n",
       "</div>"
      ],
      "text/plain": [
       "    v1   v2 shape\n",
       "0  100  400     A\n",
       "1  200  500     B"
      ]
     },
     "execution_count": 4,
     "metadata": {},
     "output_type": "execute_result"
    }
   ],
   "source": [
    "df_s.iloc[:2, ]"
   ]
  },
  {
   "cell_type": "code",
   "execution_count": 5,
   "id": "11f81593-2709-458e-87ec-0a3b4612d36b",
   "metadata": {},
   "outputs": [
    {
     "data": {
      "text/html": [
       "<div>\n",
       "<style scoped>\n",
       "    .dataframe tbody tr th:only-of-type {\n",
       "        vertical-align: middle;\n",
       "    }\n",
       "\n",
       "    .dataframe tbody tr th {\n",
       "        vertical-align: top;\n",
       "    }\n",
       "\n",
       "    .dataframe thead th {\n",
       "        text-align: right;\n",
       "    }\n",
       "</style>\n",
       "<table border=\"1\" class=\"dataframe\">\n",
       "  <thead>\n",
       "    <tr style=\"text-align: right;\">\n",
       "      <th></th>\n",
       "      <th>v1</th>\n",
       "      <th>v2</th>\n",
       "      <th>shape</th>\n",
       "    </tr>\n",
       "  </thead>\n",
       "  <tbody>\n",
       "    <tr>\n",
       "      <th>0</th>\n",
       "      <td>100</td>\n",
       "      <td>400</td>\n",
       "      <td>A</td>\n",
       "    </tr>\n",
       "    <tr>\n",
       "      <th>1</th>\n",
       "      <td>200</td>\n",
       "      <td>500</td>\n",
       "      <td>B</td>\n",
       "    </tr>\n",
       "    <tr>\n",
       "      <th>2</th>\n",
       "      <td>300</td>\n",
       "      <td>600</td>\n",
       "      <td>C</td>\n",
       "    </tr>\n",
       "  </tbody>\n",
       "</table>\n",
       "</div>"
      ],
      "text/plain": [
       "    v1   v2 shape\n",
       "0  100  400     A\n",
       "1  200  500     B\n",
       "2  300  600     C"
      ]
     },
     "execution_count": 5,
     "metadata": {},
     "output_type": "execute_result"
    }
   ],
   "source": [
    "df_s.loc[:2, ]"
   ]
  },
  {
   "cell_type": "code",
   "execution_count": 9,
   "id": "60eaad1c-ab9c-40e4-a0f7-10c7da1bcdbe",
   "metadata": {},
   "outputs": [
    {
     "data": {
      "text/plain": [
       "0    100\n",
       "1    200\n",
       "2    300\n",
       "Name: v1, dtype: int64"
      ]
     },
     "execution_count": 9,
     "metadata": {},
     "output_type": "execute_result"
    }
   ],
   "source": [
    "df_s.v1"
   ]
  },
  {
   "cell_type": "code",
   "execution_count": 10,
   "id": "e1a54012-075b-4dea-b376-040bb3ef43ed",
   "metadata": {},
   "outputs": [
    {
     "data": {
      "text/plain": [
       "(3, 3)"
      ]
     },
     "execution_count": 10,
     "metadata": {},
     "output_type": "execute_result"
    }
   ],
   "source": [
    "df_s.shape"
   ]
  },
  {
   "cell_type": "code",
   "execution_count": 8,
   "id": "0014e7c5-96ca-441f-8ba0-037a46f6f438",
   "metadata": {},
   "outputs": [
    {
     "data": {
      "text/plain": [
       "0    A\n",
       "1    B\n",
       "2    C\n",
       "Name: shape, dtype: object"
      ]
     },
     "execution_count": 8,
     "metadata": {},
     "output_type": "execute_result"
    }
   ],
   "source": [
    "df_s[\"shape\"]"
   ]
  },
  {
   "cell_type": "code",
   "execution_count": 11,
   "id": "38020a39-8184-4f11-8e85-f43063a02c73",
   "metadata": {},
   "outputs": [
    {
     "data": {
      "text/html": [
       "<div>\n",
       "<style scoped>\n",
       "    .dataframe tbody tr th:only-of-type {\n",
       "        vertical-align: middle;\n",
       "    }\n",
       "\n",
       "    .dataframe tbody tr th {\n",
       "        vertical-align: top;\n",
       "    }\n",
       "\n",
       "    .dataframe thead th {\n",
       "        text-align: right;\n",
       "    }\n",
       "</style>\n",
       "<table border=\"1\" class=\"dataframe\">\n",
       "  <thead>\n",
       "    <tr style=\"text-align: right;\">\n",
       "      <th></th>\n",
       "      <th>v1</th>\n",
       "      <th>v2</th>\n",
       "    </tr>\n",
       "  </thead>\n",
       "  <tbody>\n",
       "    <tr>\n",
       "      <th>0</th>\n",
       "      <td>100</td>\n",
       "      <td>400</td>\n",
       "    </tr>\n",
       "    <tr>\n",
       "      <th>1</th>\n",
       "      <td>200</td>\n",
       "      <td>500</td>\n",
       "    </tr>\n",
       "    <tr>\n",
       "      <th>2</th>\n",
       "      <td>300</td>\n",
       "      <td>600</td>\n",
       "    </tr>\n",
       "  </tbody>\n",
       "</table>\n",
       "</div>"
      ],
      "text/plain": [
       "    v1   v2\n",
       "0  100  400\n",
       "1  200  500\n",
       "2  300  600"
      ]
     },
     "execution_count": 11,
     "metadata": {},
     "output_type": "execute_result"
    }
   ],
   "source": [
    "df_s.iloc[:, :-1]"
   ]
  },
  {
   "cell_type": "code",
   "execution_count": 13,
   "id": "50b4a87a-970b-4d77-8e50-5e7ccb313f55",
   "metadata": {},
   "outputs": [
    {
     "data": {
      "text/html": [
       "<div>\n",
       "<style scoped>\n",
       "    .dataframe tbody tr th:only-of-type {\n",
       "        vertical-align: middle;\n",
       "    }\n",
       "\n",
       "    .dataframe tbody tr th {\n",
       "        vertical-align: top;\n",
       "    }\n",
       "\n",
       "    .dataframe thead th {\n",
       "        text-align: right;\n",
       "    }\n",
       "</style>\n",
       "<table border=\"1\" class=\"dataframe\">\n",
       "  <thead>\n",
       "    <tr style=\"text-align: right;\">\n",
       "      <th></th>\n",
       "      <th>v1</th>\n",
       "      <th>v2</th>\n",
       "    </tr>\n",
       "  </thead>\n",
       "  <tbody>\n",
       "    <tr>\n",
       "      <th>0</th>\n",
       "      <td>100</td>\n",
       "      <td>400</td>\n",
       "    </tr>\n",
       "    <tr>\n",
       "      <th>1</th>\n",
       "      <td>200</td>\n",
       "      <td>500</td>\n",
       "    </tr>\n",
       "    <tr>\n",
       "      <th>2</th>\n",
       "      <td>300</td>\n",
       "      <td>600</td>\n",
       "    </tr>\n",
       "  </tbody>\n",
       "</table>\n",
       "</div>"
      ],
      "text/plain": [
       "    v1   v2\n",
       "0  100  400\n",
       "1  200  500\n",
       "2  300  600"
      ]
     },
     "execution_count": 13,
     "metadata": {},
     "output_type": "execute_result"
    }
   ],
   "source": [
    "df_s.drop(columns = \"shape\")"
   ]
  },
  {
   "cell_type": "code",
   "execution_count": null,
   "id": "08f1ffba-316b-4abd-89c4-4963023c9106",
   "metadata": {},
   "outputs": [],
   "source": [
    "df_s.loc[:, \"v2\":]"
   ]
  },
  {
   "cell_type": "code",
   "execution_count": 15,
   "id": "7c2ee14d-51f4-4797-8145-78ba3ec74d14",
   "metadata": {},
   "outputs": [
    {
     "data": {
      "text/html": [
       "<div>\n",
       "<style scoped>\n",
       "    .dataframe tbody tr th:only-of-type {\n",
       "        vertical-align: middle;\n",
       "    }\n",
       "\n",
       "    .dataframe tbody tr th {\n",
       "        vertical-align: top;\n",
       "    }\n",
       "\n",
       "    .dataframe thead th {\n",
       "        text-align: right;\n",
       "    }\n",
       "</style>\n",
       "<table border=\"1\" class=\"dataframe\">\n",
       "  <thead>\n",
       "    <tr style=\"text-align: right;\">\n",
       "      <th></th>\n",
       "      <th>v1</th>\n",
       "      <th>v2</th>\n",
       "      <th>shape</th>\n",
       "    </tr>\n",
       "  </thead>\n",
       "  <tbody>\n",
       "    <tr>\n",
       "      <th>1</th>\n",
       "      <td>200</td>\n",
       "      <td>500</td>\n",
       "      <td>B</td>\n",
       "    </tr>\n",
       "  </tbody>\n",
       "</table>\n",
       "</div>"
      ],
      "text/plain": [
       "    v1   v2 shape\n",
       "1  200  500     B"
      ]
     },
     "execution_count": 15,
     "metadata": {},
     "output_type": "execute_result"
    }
   ],
   "source": [
    "df_s.loc[df_s[\"v1\"] == 200, ]"
   ]
  },
  {
   "cell_type": "code",
   "execution_count": 16,
   "id": "e78d563a-85db-408e-bba7-b4df0cfe5005",
   "metadata": {},
   "outputs": [
    {
     "data": {
      "text/html": [
       "<div>\n",
       "<style scoped>\n",
       "    .dataframe tbody tr th:only-of-type {\n",
       "        vertical-align: middle;\n",
       "    }\n",
       "\n",
       "    .dataframe tbody tr th {\n",
       "        vertical-align: top;\n",
       "    }\n",
       "\n",
       "    .dataframe thead th {\n",
       "        text-align: right;\n",
       "    }\n",
       "</style>\n",
       "<table border=\"1\" class=\"dataframe\">\n",
       "  <thead>\n",
       "    <tr style=\"text-align: right;\">\n",
       "      <th></th>\n",
       "      <th>v1</th>\n",
       "      <th>v2</th>\n",
       "      <th>shape</th>\n",
       "    </tr>\n",
       "  </thead>\n",
       "  <tbody>\n",
       "    <tr>\n",
       "      <th>0</th>\n",
       "      <td>100</td>\n",
       "      <td>400</td>\n",
       "      <td>A</td>\n",
       "    </tr>\n",
       "    <tr>\n",
       "      <th>2</th>\n",
       "      <td>300</td>\n",
       "      <td>600</td>\n",
       "      <td>C</td>\n",
       "    </tr>\n",
       "  </tbody>\n",
       "</table>\n",
       "</div>"
      ],
      "text/plain": [
       "    v1   v2 shape\n",
       "0  100  400     A\n",
       "2  300  600     C"
      ]
     },
     "execution_count": 16,
     "metadata": {},
     "output_type": "execute_result"
    }
   ],
   "source": [
    "df_s.loc[df_s[\"v1\"] != 200, ]"
   ]
  },
  {
   "cell_type": "code",
   "execution_count": 17,
   "id": "1f8bcade-2f14-4303-b0d4-075c0eb310d6",
   "metadata": {},
   "outputs": [
    {
     "data": {
      "text/plain": [
       "0    False\n",
       "1     True\n",
       "2    False\n",
       "Name: v1, dtype: bool"
      ]
     },
     "execution_count": 17,
     "metadata": {},
     "output_type": "execute_result"
    }
   ],
   "source": [
    "df_s[\"v1\"] == 200"
   ]
  },
  {
   "cell_type": "code",
   "execution_count": 18,
   "id": "85d8eb74-c64d-4f36-b02b-a755abdddbc1",
   "metadata": {},
   "outputs": [
    {
     "data": {
      "text/plain": [
       "0     True\n",
       "1    False\n",
       "2     True\n",
       "Name: v1, dtype: bool"
      ]
     },
     "execution_count": 18,
     "metadata": {},
     "output_type": "execute_result"
    }
   ],
   "source": [
    "~(df_s[\"v1\"] == 200)"
   ]
  },
  {
   "cell_type": "code",
   "execution_count": 19,
   "id": "5598c7e2-6332-42c1-8143-bba753b952ac",
   "metadata": {},
   "outputs": [
    {
     "data": {
      "text/html": [
       "<div>\n",
       "<style scoped>\n",
       "    .dataframe tbody tr th:only-of-type {\n",
       "        vertical-align: middle;\n",
       "    }\n",
       "\n",
       "    .dataframe tbody tr th {\n",
       "        vertical-align: top;\n",
       "    }\n",
       "\n",
       "    .dataframe thead th {\n",
       "        text-align: right;\n",
       "    }\n",
       "</style>\n",
       "<table border=\"1\" class=\"dataframe\">\n",
       "  <thead>\n",
       "    <tr style=\"text-align: right;\">\n",
       "      <th></th>\n",
       "      <th>v1</th>\n",
       "      <th>v2</th>\n",
       "      <th>shape</th>\n",
       "    </tr>\n",
       "  </thead>\n",
       "  <tbody>\n",
       "    <tr>\n",
       "      <th>0</th>\n",
       "      <td>100</td>\n",
       "      <td>400</td>\n",
       "      <td>A</td>\n",
       "    </tr>\n",
       "    <tr>\n",
       "      <th>2</th>\n",
       "      <td>300</td>\n",
       "      <td>600</td>\n",
       "      <td>C</td>\n",
       "    </tr>\n",
       "  </tbody>\n",
       "</table>\n",
       "</div>"
      ],
      "text/plain": [
       "    v1   v2 shape\n",
       "0  100  400     A\n",
       "2  300  600     C"
      ]
     },
     "execution_count": 19,
     "metadata": {},
     "output_type": "execute_result"
    }
   ],
   "source": [
    "df_s.loc[~(df_s[\"v1\"] == 200), ]"
   ]
  },
  {
   "cell_type": "code",
   "execution_count": 20,
   "id": "9d1da2bb-8106-4d7f-bfeb-5e9e75b40a71",
   "metadata": {},
   "outputs": [
    {
     "data": {
      "text/html": [
       "<div>\n",
       "<style scoped>\n",
       "    .dataframe tbody tr th:only-of-type {\n",
       "        vertical-align: middle;\n",
       "    }\n",
       "\n",
       "    .dataframe tbody tr th {\n",
       "        vertical-align: top;\n",
       "    }\n",
       "\n",
       "    .dataframe thead th {\n",
       "        text-align: right;\n",
       "    }\n",
       "</style>\n",
       "<table border=\"1\" class=\"dataframe\">\n",
       "  <thead>\n",
       "    <tr style=\"text-align: right;\">\n",
       "      <th></th>\n",
       "      <th>v1</th>\n",
       "      <th>v2</th>\n",
       "      <th>shape</th>\n",
       "    </tr>\n",
       "  </thead>\n",
       "  <tbody>\n",
       "  </tbody>\n",
       "</table>\n",
       "</div>"
      ],
      "text/plain": [
       "Empty DataFrame\n",
       "Columns: [v1, v2, shape]\n",
       "Index: []"
      ]
     },
     "execution_count": 20,
     "metadata": {},
     "output_type": "execute_result"
    }
   ],
   "source": [
    "df_s.loc[(df_s[\"v1\"] == 200) & (df_s[\"v2\"] == 600), ]"
   ]
  },
  {
   "cell_type": "code",
   "execution_count": 21,
   "id": "75d87916-c43a-404e-bc63-1512a2ff8d0e",
   "metadata": {},
   "outputs": [
    {
     "data": {
      "text/html": [
       "<div>\n",
       "<style scoped>\n",
       "    .dataframe tbody tr th:only-of-type {\n",
       "        vertical-align: middle;\n",
       "    }\n",
       "\n",
       "    .dataframe tbody tr th {\n",
       "        vertical-align: top;\n",
       "    }\n",
       "\n",
       "    .dataframe thead th {\n",
       "        text-align: right;\n",
       "    }\n",
       "</style>\n",
       "<table border=\"1\" class=\"dataframe\">\n",
       "  <thead>\n",
       "    <tr style=\"text-align: right;\">\n",
       "      <th></th>\n",
       "      <th>v1</th>\n",
       "      <th>v2</th>\n",
       "      <th>shape</th>\n",
       "    </tr>\n",
       "  </thead>\n",
       "  <tbody>\n",
       "    <tr>\n",
       "      <th>1</th>\n",
       "      <td>200</td>\n",
       "      <td>500</td>\n",
       "      <td>B</td>\n",
       "    </tr>\n",
       "    <tr>\n",
       "      <th>2</th>\n",
       "      <td>300</td>\n",
       "      <td>600</td>\n",
       "      <td>C</td>\n",
       "    </tr>\n",
       "  </tbody>\n",
       "</table>\n",
       "</div>"
      ],
      "text/plain": [
       "    v1   v2 shape\n",
       "1  200  500     B\n",
       "2  300  600     C"
      ]
     },
     "execution_count": 21,
     "metadata": {},
     "output_type": "execute_result"
    }
   ],
   "source": [
    "df_s.loc[(df_s[\"v1\"] == 200) | (df_s[\"v2\"] == 600), ]"
   ]
  },
  {
   "cell_type": "code",
   "execution_count": 25,
   "id": "c1fc03ce-d732-451a-938a-9441713fd2e3",
   "metadata": {},
   "outputs": [
    {
     "data": {
      "text/html": [
       "<div>\n",
       "<style scoped>\n",
       "    .dataframe tbody tr th:only-of-type {\n",
       "        vertical-align: middle;\n",
       "    }\n",
       "\n",
       "    .dataframe tbody tr th {\n",
       "        vertical-align: top;\n",
       "    }\n",
       "\n",
       "    .dataframe thead th {\n",
       "        text-align: right;\n",
       "    }\n",
       "</style>\n",
       "<table border=\"1\" class=\"dataframe\">\n",
       "  <thead>\n",
       "    <tr style=\"text-align: right;\">\n",
       "      <th></th>\n",
       "      <th>v1</th>\n",
       "      <th>v2</th>\n",
       "      <th>shape</th>\n",
       "    </tr>\n",
       "  </thead>\n",
       "  <tbody>\n",
       "    <tr>\n",
       "      <th>1</th>\n",
       "      <td>200</td>\n",
       "      <td>500</td>\n",
       "      <td>B</td>\n",
       "    </tr>\n",
       "  </tbody>\n",
       "</table>\n",
       "</div>"
      ],
      "text/plain": [
       "    v1   v2 shape\n",
       "1  200  500     B"
      ]
     },
     "execution_count": 25,
     "metadata": {},
     "output_type": "execute_result"
    }
   ],
   "source": [
    "condi_1 = df_s[\"v1\"] == 200\n",
    "condi_2 = df_s[\"v2\"] == 500\n",
    "df_s.loc[condi_1 & condi_2, ]"
   ]
  },
  {
   "cell_type": "code",
   "execution_count": 29,
   "id": "5eb43331-07be-46fe-b9a9-7571ec09ca4e",
   "metadata": {},
   "outputs": [
    {
     "data": {
      "text/html": [
       "<div>\n",
       "<style scoped>\n",
       "    .dataframe tbody tr th:only-of-type {\n",
       "        vertical-align: middle;\n",
       "    }\n",
       "\n",
       "    .dataframe tbody tr th {\n",
       "        vertical-align: top;\n",
       "    }\n",
       "\n",
       "    .dataframe thead th {\n",
       "        text-align: right;\n",
       "    }\n",
       "</style>\n",
       "<table border=\"1\" class=\"dataframe\">\n",
       "  <thead>\n",
       "    <tr style=\"text-align: right;\">\n",
       "      <th></th>\n",
       "      <th>v1</th>\n",
       "      <th>v2</th>\n",
       "      <th>shape</th>\n",
       "    </tr>\n",
       "  </thead>\n",
       "  <tbody>\n",
       "    <tr>\n",
       "      <th>0</th>\n",
       "      <td>100</td>\n",
       "      <td>400</td>\n",
       "      <td>A</td>\n",
       "    </tr>\n",
       "    <tr>\n",
       "      <th>2</th>\n",
       "      <td>300</td>\n",
       "      <td>600</td>\n",
       "      <td>C</td>\n",
       "    </tr>\n",
       "  </tbody>\n",
       "</table>\n",
       "</div>"
      ],
      "text/plain": [
       "    v1   v2 shape\n",
       "0  100  400     A\n",
       "2  300  600     C"
      ]
     },
     "execution_count": 29,
     "metadata": {},
     "output_type": "execute_result"
    }
   ],
   "source": [
    "df_s.loc[(df_s[\"shape\"] == \"A\") | (df_s[\"shape\"] == \"C\"), ]"
   ]
  },
  {
   "cell_type": "code",
   "execution_count": 30,
   "id": "ed6bb449-b728-4e7f-ab5e-21e223bb1b37",
   "metadata": {},
   "outputs": [
    {
     "data": {
      "text/html": [
       "<div>\n",
       "<style scoped>\n",
       "    .dataframe tbody tr th:only-of-type {\n",
       "        vertical-align: middle;\n",
       "    }\n",
       "\n",
       "    .dataframe tbody tr th {\n",
       "        vertical-align: top;\n",
       "    }\n",
       "\n",
       "    .dataframe thead th {\n",
       "        text-align: right;\n",
       "    }\n",
       "</style>\n",
       "<table border=\"1\" class=\"dataframe\">\n",
       "  <thead>\n",
       "    <tr style=\"text-align: right;\">\n",
       "      <th></th>\n",
       "      <th>v1</th>\n",
       "      <th>v2</th>\n",
       "      <th>shape</th>\n",
       "    </tr>\n",
       "  </thead>\n",
       "  <tbody>\n",
       "    <tr>\n",
       "      <th>0</th>\n",
       "      <td>100</td>\n",
       "      <td>400</td>\n",
       "      <td>A</td>\n",
       "    </tr>\n",
       "    <tr>\n",
       "      <th>2</th>\n",
       "      <td>300</td>\n",
       "      <td>600</td>\n",
       "      <td>C</td>\n",
       "    </tr>\n",
       "  </tbody>\n",
       "</table>\n",
       "</div>"
      ],
      "text/plain": [
       "    v1   v2 shape\n",
       "0  100  400     A\n",
       "2  300  600     C"
      ]
     },
     "execution_count": 30,
     "metadata": {},
     "output_type": "execute_result"
    }
   ],
   "source": [
    "df_s.loc[df_s[\"shape\"].isin([\"A\", \"C\"]), ]"
   ]
  },
  {
   "cell_type": "code",
   "execution_count": null,
   "id": "a52f4d82-f044-489d-b764-3a5e7ec2c55a",
   "metadata": {},
   "outputs": [],
   "source": [
    "df_s.loc[~df_s[\"shape\"].isin([\"A\", \"C\"]), ]"
   ]
  },
  {
   "cell_type": "code",
   "execution_count": 33,
   "id": "e15b6940-3cc7-4ed2-b296-deccb4589691",
   "metadata": {},
   "outputs": [
    {
     "data": {
      "text/html": [
       "<div>\n",
       "<style scoped>\n",
       "    .dataframe tbody tr th:only-of-type {\n",
       "        vertical-align: middle;\n",
       "    }\n",
       "\n",
       "    .dataframe tbody tr th {\n",
       "        vertical-align: top;\n",
       "    }\n",
       "\n",
       "    .dataframe thead th {\n",
       "        text-align: right;\n",
       "    }\n",
       "</style>\n",
       "<table border=\"1\" class=\"dataframe\">\n",
       "  <thead>\n",
       "    <tr style=\"text-align: right;\">\n",
       "      <th></th>\n",
       "      <th>v1_nor</th>\n",
       "      <th>v2_nor</th>\n",
       "      <th>shape_nor</th>\n",
       "    </tr>\n",
       "  </thead>\n",
       "  <tbody>\n",
       "    <tr>\n",
       "      <th>0</th>\n",
       "      <td>100</td>\n",
       "      <td>400</td>\n",
       "      <td>A</td>\n",
       "    </tr>\n",
       "    <tr>\n",
       "      <th>1</th>\n",
       "      <td>200</td>\n",
       "      <td>500</td>\n",
       "      <td>B</td>\n",
       "    </tr>\n",
       "    <tr>\n",
       "      <th>2</th>\n",
       "      <td>300</td>\n",
       "      <td>600</td>\n",
       "      <td>C</td>\n",
       "    </tr>\n",
       "  </tbody>\n",
       "</table>\n",
       "</div>"
      ],
      "text/plain": [
       "   v1_nor  v2_nor shape_nor\n",
       "0     100     400         A\n",
       "1     200     500         B\n",
       "2     300     600         C"
      ]
     },
     "execution_count": 33,
     "metadata": {},
     "output_type": "execute_result"
    }
   ],
   "source": [
    "df_s2 = df_s.add_suffix(\"_nor\")\n",
    "df_s2"
   ]
  },
  {
   "cell_type": "code",
   "execution_count": null,
   "id": "1c7d20b1-15c7-420f-95e7-1f181f33b0a9",
   "metadata": {},
   "outputs": [],
   "source": [
    "df = pd.read_csv(\"krx_202105_utf8.csv\")\n",
    "df.head(2)"
   ]
  },
  {
   "cell_type": "code",
   "execution_count": null,
   "id": "cd6e9890-6e5f-45fc-a38f-1099b61e01ea",
   "metadata": {},
   "outputs": [],
   "source": [
    "df_sub = df.loc[df[\"지수명\"] == \"KRX 300\", ]\n",
    "df_sub"
   ]
  },
  {
   "cell_type": "code",
   "execution_count": 45,
   "id": "8f7c6e90-3453-4afd-b0fd-533395092ec8",
   "metadata": {},
   "outputs": [
    {
     "data": {
      "text/html": [
       "<div>\n",
       "<style scoped>\n",
       "    .dataframe tbody tr th:only-of-type {\n",
       "        vertical-align: middle;\n",
       "    }\n",
       "\n",
       "    .dataframe tbody tr th {\n",
       "        vertical-align: top;\n",
       "    }\n",
       "\n",
       "    .dataframe thead th {\n",
       "        text-align: right;\n",
       "    }\n",
       "</style>\n",
       "<table border=\"1\" class=\"dataframe\">\n",
       "  <thead>\n",
       "    <tr style=\"text-align: right;\">\n",
       "      <th></th>\n",
       "      <th>지수명</th>\n",
       "      <th>종가</th>\n",
       "      <th>날짜</th>\n",
       "    </tr>\n",
       "  </thead>\n",
       "  <tbody>\n",
       "    <tr>\n",
       "      <th>117</th>\n",
       "      <td>KTOP 30</td>\n",
       "      <td>11869.29</td>\n",
       "      <td>20210510</td>\n",
       "    </tr>\n",
       "  </tbody>\n",
       "</table>\n",
       "</div>"
      ],
      "text/plain": [
       "         지수명        종가        날짜\n",
       "117  KTOP 30  11869.29  20210510"
      ]
     },
     "execution_count": 45,
     "metadata": {},
     "output_type": "execute_result"
    }
   ],
   "source": [
    "df.loc[df[\"종가\"] == df[\"종가\"].max(), [\"지수명\", \"종가\", \"날짜\"]]"
   ]
  },
  {
   "cell_type": "code",
   "execution_count": 46,
   "id": "e5a66457-6b55-4756-807c-f34f42857044",
   "metadata": {},
   "outputs": [
    {
     "data": {
      "text/plain": [
       "117"
      ]
     },
     "execution_count": 46,
     "metadata": {},
     "output_type": "execute_result"
    }
   ],
   "source": [
    "df[\"종가\"].idxmax()"
   ]
  },
  {
   "cell_type": "code",
   "execution_count": 47,
   "id": "a00b77ac-2f29-4a2c-9592-902e9aed3ac6",
   "metadata": {},
   "outputs": [
    {
     "data": {
      "text/plain": [
       "지수명     KTOP 30\n",
       "종가     11869.29\n",
       "날짜     20210510\n",
       "Name: 117, dtype: object"
      ]
     },
     "execution_count": 47,
     "metadata": {},
     "output_type": "execute_result"
    }
   ],
   "source": [
    "df.loc[df[\"종가\"].idxmax(), [\"지수명\", \"종가\", \"날짜\"]]"
   ]
  },
  {
   "cell_type": "code",
   "execution_count": 48,
   "id": "440ff700-e4bc-4119-8dd5-f92a620ea88d",
   "metadata": {},
   "outputs": [
    {
     "data": {
      "text/html": [
       "<div>\n",
       "<style scoped>\n",
       "    .dataframe tbody tr th:only-of-type {\n",
       "        vertical-align: middle;\n",
       "    }\n",
       "\n",
       "    .dataframe tbody tr th {\n",
       "        vertical-align: top;\n",
       "    }\n",
       "\n",
       "    .dataframe thead th {\n",
       "        text-align: right;\n",
       "    }\n",
       "</style>\n",
       "<table border=\"1\" class=\"dataframe\">\n",
       "  <thead>\n",
       "    <tr style=\"text-align: right;\">\n",
       "      <th></th>\n",
       "      <th>지수명</th>\n",
       "      <th>종가</th>\n",
       "      <th>날짜</th>\n",
       "    </tr>\n",
       "  </thead>\n",
       "  <tbody>\n",
       "    <tr>\n",
       "      <th>117</th>\n",
       "      <td>KTOP 30</td>\n",
       "      <td>11869.29</td>\n",
       "      <td>20210510</td>\n",
       "    </tr>\n",
       "  </tbody>\n",
       "</table>\n",
       "</div>"
      ],
      "text/plain": [
       "         지수명        종가        날짜\n",
       "117  KTOP 30  11869.29  20210510"
      ]
     },
     "execution_count": 48,
     "metadata": {},
     "output_type": "execute_result"
    }
   ],
   "source": [
    "df.loc[[df[\"종가\"].idxmax()], [\"지수명\", \"종가\", \"날짜\"]]"
   ]
  },
  {
   "cell_type": "code",
   "execution_count": 54,
   "id": "34dced2e-8153-4712-a913-c3c406fe9ad5",
   "metadata": {},
   "outputs": [
    {
     "data": {
      "text/html": [
       "<div>\n",
       "<style scoped>\n",
       "    .dataframe tbody tr th:only-of-type {\n",
       "        vertical-align: middle;\n",
       "    }\n",
       "\n",
       "    .dataframe tbody tr th {\n",
       "        vertical-align: top;\n",
       "    }\n",
       "\n",
       "    .dataframe thead th {\n",
       "        text-align: right;\n",
       "    }\n",
       "</style>\n",
       "<table border=\"1\" class=\"dataframe\">\n",
       "  <thead>\n",
       "    <tr style=\"text-align: right;\">\n",
       "      <th></th>\n",
       "      <th>Sepal.Length</th>\n",
       "      <th>Sepal.Width</th>\n",
       "      <th>Petal.Length</th>\n",
       "      <th>Petal.Width</th>\n",
       "      <th>Species</th>\n",
       "    </tr>\n",
       "  </thead>\n",
       "  <tbody>\n",
       "    <tr>\n",
       "      <th>0</th>\n",
       "      <td>5.1</td>\n",
       "      <td>NaN</td>\n",
       "      <td>NaN</td>\n",
       "      <td>0.2</td>\n",
       "      <td>setosa</td>\n",
       "    </tr>\n",
       "    <tr>\n",
       "      <th>1</th>\n",
       "      <td>4.9</td>\n",
       "      <td>3.0</td>\n",
       "      <td>1.4</td>\n",
       "      <td>0.2</td>\n",
       "      <td>setosa</td>\n",
       "    </tr>\n",
       "    <tr>\n",
       "      <th>2</th>\n",
       "      <td>4.7</td>\n",
       "      <td>3.2</td>\n",
       "      <td>1.3</td>\n",
       "      <td>0.2</td>\n",
       "      <td>setosa</td>\n",
       "    </tr>\n",
       "    <tr>\n",
       "      <th>3</th>\n",
       "      <td>4.6</td>\n",
       "      <td>3.1</td>\n",
       "      <td>1.5</td>\n",
       "      <td>0.2</td>\n",
       "      <td>setosa</td>\n",
       "    </tr>\n",
       "    <tr>\n",
       "      <th>4</th>\n",
       "      <td>5.0</td>\n",
       "      <td>3.6</td>\n",
       "      <td>1.4</td>\n",
       "      <td>0.2</td>\n",
       "      <td>setosa</td>\n",
       "    </tr>\n",
       "  </tbody>\n",
       "</table>\n",
       "</div>"
      ],
      "text/plain": [
       "   Sepal.Length  Sepal.Width  Petal.Length  Petal.Width Species\n",
       "0           5.1          NaN           NaN          0.2  setosa\n",
       "1           4.9          3.0           1.4          0.2  setosa\n",
       "2           4.7          3.2           1.3          0.2  setosa\n",
       "3           4.6          3.1           1.5          0.2  setosa\n",
       "4           5.0          3.6           1.4          0.2  setosa"
      ]
     },
     "execution_count": 54,
     "metadata": {},
     "output_type": "execute_result"
    }
   ],
   "source": [
    "df = pd.read_csv(\"iris_missing.csv\")\n",
    "df_sub = df.head()\n",
    "df_sub"
   ]
  },
  {
   "cell_type": "code",
   "execution_count": null,
   "id": "0533c224-e9db-427e-a6df-354887217f1b",
   "metadata": {},
   "outputs": [],
   "source": [
    "df_sub.info()"
   ]
  },
  {
   "cell_type": "code",
   "execution_count": null,
   "id": "6a201041-d0fa-4faf-88e7-d8d59ef77b0e",
   "metadata": {},
   "outputs": [],
   "source": [
    "df_sub.count()"
   ]
  },
  {
   "cell_type": "code",
   "execution_count": 58,
   "id": "ecd95297-7193-4a55-95a1-c082e3b3c62e",
   "metadata": {},
   "outputs": [
    {
     "data": {
      "text/plain": [
       "Sepal.Length    float64\n",
       "Sepal.Width     float64\n",
       "Petal.Length    float64\n",
       "Petal.Width     float64\n",
       "Species          object\n",
       "dtype: object"
      ]
     },
     "execution_count": 58,
     "metadata": {},
     "output_type": "execute_result"
    }
   ],
   "source": [
    "df_sub.dtypes"
   ]
  },
  {
   "cell_type": "code",
   "execution_count": 57,
   "id": "f78943ae-bb0c-47e7-ab6a-3bb83333107d",
   "metadata": {},
   "outputs": [
    {
     "data": {
      "text/plain": [
       "Sepal.Length    0\n",
       "Sepal.Width     1\n",
       "Petal.Length    1\n",
       "Petal.Width     0\n",
       "Species         0\n",
       "dtype: int64"
      ]
     },
     "execution_count": 57,
     "metadata": {},
     "output_type": "execute_result"
    }
   ],
   "source": [
    "df_sub.isna().sum()"
   ]
  },
  {
   "cell_type": "code",
   "execution_count": null,
   "id": "0d2b925a-cc24-4826-90e8-b6e8949fa2ec",
   "metadata": {},
   "outputs": [],
   "source": [
    "df_sub.isna()"
   ]
  },
  {
   "cell_type": "code",
   "execution_count": null,
   "id": "df8c481c-4ac1-4e37-b320-dda6865dde80",
   "metadata": {},
   "outputs": [],
   "source": [
    "df_sub.isna().sum(axis = 1)"
   ]
  },
  {
   "cell_type": "code",
   "execution_count": 60,
   "id": "de2394d7-8e44-45e2-b6d3-4fb6a7d266ed",
   "metadata": {},
   "outputs": [
    {
     "data": {
      "text/html": [
       "<div>\n",
       "<style scoped>\n",
       "    .dataframe tbody tr th:only-of-type {\n",
       "        vertical-align: middle;\n",
       "    }\n",
       "\n",
       "    .dataframe tbody tr th {\n",
       "        vertical-align: top;\n",
       "    }\n",
       "\n",
       "    .dataframe thead th {\n",
       "        text-align: right;\n",
       "    }\n",
       "</style>\n",
       "<table border=\"1\" class=\"dataframe\">\n",
       "  <thead>\n",
       "    <tr style=\"text-align: right;\">\n",
       "      <th></th>\n",
       "      <th>Sepal.Length</th>\n",
       "      <th>Sepal.Width</th>\n",
       "      <th>Petal.Length</th>\n",
       "      <th>Petal.Width</th>\n",
       "      <th>Species</th>\n",
       "    </tr>\n",
       "  </thead>\n",
       "  <tbody>\n",
       "    <tr>\n",
       "      <th>0</th>\n",
       "      <td>5.1</td>\n",
       "      <td>NaN</td>\n",
       "      <td>NaN</td>\n",
       "      <td>0.2</td>\n",
       "      <td>setosa</td>\n",
       "    </tr>\n",
       "  </tbody>\n",
       "</table>\n",
       "</div>"
      ],
      "text/plain": [
       "   Sepal.Length  Sepal.Width  Petal.Length  Petal.Width Species\n",
       "0           5.1          NaN           NaN          0.2  setosa"
      ]
     },
     "execution_count": 60,
     "metadata": {},
     "output_type": "execute_result"
    }
   ],
   "source": [
    "df_sub1 = df_sub.loc[df_sub[\"Sepal.Width\"].isna(), ]\n",
    "df_sub1"
   ]
  },
  {
   "cell_type": "code",
   "execution_count": 61,
   "id": "c83ab4c9-807b-4d9d-8df6-de239cb81337",
   "metadata": {},
   "outputs": [
    {
     "data": {
      "text/html": [
       "<div>\n",
       "<style scoped>\n",
       "    .dataframe tbody tr th:only-of-type {\n",
       "        vertical-align: middle;\n",
       "    }\n",
       "\n",
       "    .dataframe tbody tr th {\n",
       "        vertical-align: top;\n",
       "    }\n",
       "\n",
       "    .dataframe thead th {\n",
       "        text-align: right;\n",
       "    }\n",
       "</style>\n",
       "<table border=\"1\" class=\"dataframe\">\n",
       "  <thead>\n",
       "    <tr style=\"text-align: right;\">\n",
       "      <th></th>\n",
       "      <th>Sepal.Length</th>\n",
       "      <th>Sepal.Width</th>\n",
       "      <th>Petal.Length</th>\n",
       "      <th>Petal.Width</th>\n",
       "      <th>Species</th>\n",
       "    </tr>\n",
       "  </thead>\n",
       "  <tbody>\n",
       "    <tr>\n",
       "      <th>1</th>\n",
       "      <td>4.9</td>\n",
       "      <td>3.0</td>\n",
       "      <td>1.4</td>\n",
       "      <td>0.2</td>\n",
       "      <td>setosa</td>\n",
       "    </tr>\n",
       "    <tr>\n",
       "      <th>2</th>\n",
       "      <td>4.7</td>\n",
       "      <td>3.2</td>\n",
       "      <td>1.3</td>\n",
       "      <td>0.2</td>\n",
       "      <td>setosa</td>\n",
       "    </tr>\n",
       "    <tr>\n",
       "      <th>3</th>\n",
       "      <td>4.6</td>\n",
       "      <td>3.1</td>\n",
       "      <td>1.5</td>\n",
       "      <td>0.2</td>\n",
       "      <td>setosa</td>\n",
       "    </tr>\n",
       "    <tr>\n",
       "      <th>4</th>\n",
       "      <td>5.0</td>\n",
       "      <td>3.6</td>\n",
       "      <td>1.4</td>\n",
       "      <td>0.2</td>\n",
       "      <td>setosa</td>\n",
       "    </tr>\n",
       "  </tbody>\n",
       "</table>\n",
       "</div>"
      ],
      "text/plain": [
       "   Sepal.Length  Sepal.Width  Petal.Length  Petal.Width Species\n",
       "1           4.9          3.0           1.4          0.2  setosa\n",
       "2           4.7          3.2           1.3          0.2  setosa\n",
       "3           4.6          3.1           1.5          0.2  setosa\n",
       "4           5.0          3.6           1.4          0.2  setosa"
      ]
     },
     "execution_count": 61,
     "metadata": {},
     "output_type": "execute_result"
    }
   ],
   "source": [
    "df_sub2 = df_sub.loc[df_sub[\"Sepal.Width\"].notna(), ]\n",
    "df_sub2"
   ]
  },
  {
   "cell_type": "code",
   "execution_count": 62,
   "id": "64b7f346-5242-488a-bb1d-db34941f8f3e",
   "metadata": {},
   "outputs": [
    {
     "data": {
      "text/html": [
       "<div>\n",
       "<style scoped>\n",
       "    .dataframe tbody tr th:only-of-type {\n",
       "        vertical-align: middle;\n",
       "    }\n",
       "\n",
       "    .dataframe tbody tr th {\n",
       "        vertical-align: top;\n",
       "    }\n",
       "\n",
       "    .dataframe thead th {\n",
       "        text-align: right;\n",
       "    }\n",
       "</style>\n",
       "<table border=\"1\" class=\"dataframe\">\n",
       "  <thead>\n",
       "    <tr style=\"text-align: right;\">\n",
       "      <th></th>\n",
       "      <th>Sepal.Length</th>\n",
       "      <th>Sepal.Width</th>\n",
       "      <th>Petal.Length</th>\n",
       "      <th>Petal.Width</th>\n",
       "      <th>Species</th>\n",
       "    </tr>\n",
       "  </thead>\n",
       "  <tbody>\n",
       "    <tr>\n",
       "      <th>1</th>\n",
       "      <td>4.9</td>\n",
       "      <td>3.0</td>\n",
       "      <td>1.4</td>\n",
       "      <td>0.2</td>\n",
       "      <td>setosa</td>\n",
       "    </tr>\n",
       "    <tr>\n",
       "      <th>2</th>\n",
       "      <td>4.7</td>\n",
       "      <td>3.2</td>\n",
       "      <td>1.3</td>\n",
       "      <td>0.2</td>\n",
       "      <td>setosa</td>\n",
       "    </tr>\n",
       "    <tr>\n",
       "      <th>3</th>\n",
       "      <td>4.6</td>\n",
       "      <td>3.1</td>\n",
       "      <td>1.5</td>\n",
       "      <td>0.2</td>\n",
       "      <td>setosa</td>\n",
       "    </tr>\n",
       "    <tr>\n",
       "      <th>4</th>\n",
       "      <td>5.0</td>\n",
       "      <td>3.6</td>\n",
       "      <td>1.4</td>\n",
       "      <td>0.2</td>\n",
       "      <td>setosa</td>\n",
       "    </tr>\n",
       "  </tbody>\n",
       "</table>\n",
       "</div>"
      ],
      "text/plain": [
       "   Sepal.Length  Sepal.Width  Petal.Length  Petal.Width Species\n",
       "1           4.9          3.0           1.4          0.2  setosa\n",
       "2           4.7          3.2           1.3          0.2  setosa\n",
       "3           4.6          3.1           1.5          0.2  setosa\n",
       "4           5.0          3.6           1.4          0.2  setosa"
      ]
     },
     "execution_count": 62,
     "metadata": {},
     "output_type": "execute_result"
    }
   ],
   "source": [
    "df_sub3 = df_sub.dropna()\n",
    "df_sub3"
   ]
  },
  {
   "cell_type": "code",
   "execution_count": null,
   "id": "0a95fec7-e5bf-4612-afb5-65453363d1af",
   "metadata": {},
   "outputs": [],
   "source": [
    "df.head()"
   ]
  },
  {
   "cell_type": "code",
   "execution_count": 71,
   "id": "d46d00f2-29ee-4fde-b405-d609dec7f407",
   "metadata": {},
   "outputs": [
    {
     "data": {
      "text/html": [
       "<div>\n",
       "<style scoped>\n",
       "    .dataframe tbody tr th:only-of-type {\n",
       "        vertical-align: middle;\n",
       "    }\n",
       "\n",
       "    .dataframe tbody tr th {\n",
       "        vertical-align: top;\n",
       "    }\n",
       "\n",
       "    .dataframe thead th {\n",
       "        text-align: right;\n",
       "    }\n",
       "</style>\n",
       "<table border=\"1\" class=\"dataframe\">\n",
       "  <thead>\n",
       "    <tr style=\"text-align: right;\">\n",
       "      <th></th>\n",
       "      <th>Sepal.Length</th>\n",
       "      <th>Sepal.Width</th>\n",
       "      <th>Petal.Length</th>\n",
       "      <th>Petal.Width</th>\n",
       "      <th>Species</th>\n",
       "    </tr>\n",
       "  </thead>\n",
       "  <tbody>\n",
       "    <tr>\n",
       "      <th>0</th>\n",
       "      <td>5.1</td>\n",
       "      <td>-999.0</td>\n",
       "      <td>1.4</td>\n",
       "      <td>0.2</td>\n",
       "      <td>setosa</td>\n",
       "    </tr>\n",
       "    <tr>\n",
       "      <th>1</th>\n",
       "      <td>4.9</td>\n",
       "      <td>3.0</td>\n",
       "      <td>1.4</td>\n",
       "      <td>0.2</td>\n",
       "      <td>setosa</td>\n",
       "    </tr>\n",
       "    <tr>\n",
       "      <th>2</th>\n",
       "      <td>4.7</td>\n",
       "      <td>3.2</td>\n",
       "      <td>1.3</td>\n",
       "      <td>0.2</td>\n",
       "      <td>setosa</td>\n",
       "    </tr>\n",
       "    <tr>\n",
       "      <th>3</th>\n",
       "      <td>4.6</td>\n",
       "      <td>3.1</td>\n",
       "      <td>1.5</td>\n",
       "      <td>0.2</td>\n",
       "      <td>setosa</td>\n",
       "    </tr>\n",
       "    <tr>\n",
       "      <th>4</th>\n",
       "      <td>5.0</td>\n",
       "      <td>3.6</td>\n",
       "      <td>1.4</td>\n",
       "      <td>0.2</td>\n",
       "      <td>setosa</td>\n",
       "    </tr>\n",
       "  </tbody>\n",
       "</table>\n",
       "</div>"
      ],
      "text/plain": [
       "   Sepal.Length  Sepal.Width  Petal.Length  Petal.Width Species\n",
       "0           5.1       -999.0           1.4          0.2  setosa\n",
       "1           4.9          3.0           1.4          0.2  setosa\n",
       "2           4.7          3.2           1.3          0.2  setosa\n",
       "3           4.6          3.1           1.5          0.2  setosa\n",
       "4           5.0          3.6           1.4          0.2  setosa"
      ]
     },
     "execution_count": 71,
     "metadata": {},
     "output_type": "execute_result"
    }
   ],
   "source": [
    "df_sub.loc[:, \"Sepal.Width\"] = df_sub[\"Sepal.Width\"].fillna(-999)\n",
    "df_sub[\"Petal.Length\"] = df_sub[\"Petal.Length\"].fillna(df_sub[\"Petal.Length\"].mean())\n",
    "df_sub"
   ]
  },
  {
   "cell_type": "markdown",
   "id": "34e09c6c-8e64-44bb-9323-777cb8220357",
   "metadata": {},
   "source": [
    "시험버전은 객체가 얕은 복사가 되는 경우가 많아서  \n",
    "필터링 등 특정 작업 이후 .copy() 또는 .reset_index() 적극 활용 권장."
   ]
  },
  {
   "cell_type": "code",
   "execution_count": null,
   "id": "562ca906-5857-41e3-af30-676729040bf0",
   "metadata": {},
   "outputs": [],
   "source": [
    "# df_sub2 = df_sub.head().copy()\n",
    "df_sub2 = df_sub.head().reset_index(drop = True)\n",
    "df_sub2.loc[:, \"Sepal.Width\"] = df_sub2[\"Sepal.Width\"].fillna(-999)\n",
    "df_sub2[\"Petal.Length\"] = df_sub2[\"Petal.Length\"].fillna(df_sub2[\"Petal.Length\"].mean())\n",
    "df_sub2"
   ]
  },
  {
   "cell_type": "code",
   "execution_count": 73,
   "id": "4a4083dd-57b5-42da-af23-3d5720fa8993",
   "metadata": {},
   "outputs": [
    {
     "data": {
      "text/html": [
       "<div>\n",
       "<style scoped>\n",
       "    .dataframe tbody tr th:only-of-type {\n",
       "        vertical-align: middle;\n",
       "    }\n",
       "\n",
       "    .dataframe tbody tr th {\n",
       "        vertical-align: top;\n",
       "    }\n",
       "\n",
       "    .dataframe thead th {\n",
       "        text-align: right;\n",
       "    }\n",
       "</style>\n",
       "<table border=\"1\" class=\"dataframe\">\n",
       "  <thead>\n",
       "    <tr style=\"text-align: right;\">\n",
       "      <th></th>\n",
       "      <th>Species</th>\n",
       "      <th>Sepal.Length</th>\n",
       "      <th>Sepal.Width</th>\n",
       "      <th>Petal.Length</th>\n",
       "      <th>Petal.Width</th>\n",
       "    </tr>\n",
       "  </thead>\n",
       "  <tbody>\n",
       "    <tr>\n",
       "      <th>0</th>\n",
       "      <td>setosa</td>\n",
       "      <td>5.1</td>\n",
       "      <td>-999.0</td>\n",
       "      <td>1.4</td>\n",
       "      <td>0.2</td>\n",
       "    </tr>\n",
       "    <tr>\n",
       "      <th>1</th>\n",
       "      <td>setosa</td>\n",
       "      <td>4.9</td>\n",
       "      <td>3.0</td>\n",
       "      <td>1.4</td>\n",
       "      <td>0.2</td>\n",
       "    </tr>\n",
       "    <tr>\n",
       "      <th>2</th>\n",
       "      <td>setosa</td>\n",
       "      <td>4.7</td>\n",
       "      <td>3.2</td>\n",
       "      <td>1.3</td>\n",
       "      <td>0.2</td>\n",
       "    </tr>\n",
       "    <tr>\n",
       "      <th>3</th>\n",
       "      <td>setosa</td>\n",
       "      <td>4.6</td>\n",
       "      <td>3.1</td>\n",
       "      <td>1.5</td>\n",
       "      <td>0.2</td>\n",
       "    </tr>\n",
       "    <tr>\n",
       "      <th>4</th>\n",
       "      <td>setosa</td>\n",
       "      <td>5.0</td>\n",
       "      <td>3.6</td>\n",
       "      <td>1.4</td>\n",
       "      <td>0.2</td>\n",
       "    </tr>\n",
       "  </tbody>\n",
       "</table>\n",
       "</div>"
      ],
      "text/plain": [
       "  Species  Sepal.Length  Sepal.Width  Petal.Length  Petal.Width\n",
       "0  setosa           5.1       -999.0           1.4          0.2\n",
       "1  setosa           4.9          3.0           1.4          0.2\n",
       "2  setosa           4.7          3.2           1.3          0.2\n",
       "3  setosa           4.6          3.1           1.5          0.2\n",
       "4  setosa           5.0          3.6           1.4          0.2"
      ]
     },
     "execution_count": 73,
     "metadata": {},
     "output_type": "execute_result"
    }
   ],
   "source": [
    "df_sub3 = df_sub.set_index(\"Species\").reset_index()\n",
    "df_sub3"
   ]
  },
  {
   "cell_type": "code",
   "execution_count": 76,
   "id": "946a99ee-10c4-4a6e-9254-6bd7b9509891",
   "metadata": {},
   "outputs": [
    {
     "data": {
      "text/html": [
       "<div>\n",
       "<style scoped>\n",
       "    .dataframe tbody tr th:only-of-type {\n",
       "        vertical-align: middle;\n",
       "    }\n",
       "\n",
       "    .dataframe tbody tr th {\n",
       "        vertical-align: top;\n",
       "    }\n",
       "\n",
       "    .dataframe thead th {\n",
       "        text-align: right;\n",
       "    }\n",
       "</style>\n",
       "<table border=\"1\" class=\"dataframe\">\n",
       "  <thead>\n",
       "    <tr style=\"text-align: right;\">\n",
       "      <th></th>\n",
       "      <th>Sepal.Length</th>\n",
       "      <th>Sepal.Width</th>\n",
       "      <th>Petal.Length</th>\n",
       "      <th>Petal.Width</th>\n",
       "      <th>Species</th>\n",
       "    </tr>\n",
       "  </thead>\n",
       "  <tbody>\n",
       "    <tr>\n",
       "      <th>3</th>\n",
       "      <td>4.6</td>\n",
       "      <td>3.1</td>\n",
       "      <td>1.5</td>\n",
       "      <td>0.2</td>\n",
       "      <td>setosa</td>\n",
       "    </tr>\n",
       "    <tr>\n",
       "      <th>2</th>\n",
       "      <td>4.7</td>\n",
       "      <td>3.2</td>\n",
       "      <td>1.3</td>\n",
       "      <td>0.2</td>\n",
       "      <td>setosa</td>\n",
       "    </tr>\n",
       "    <tr>\n",
       "      <th>1</th>\n",
       "      <td>4.9</td>\n",
       "      <td>3.0</td>\n",
       "      <td>1.4</td>\n",
       "      <td>0.2</td>\n",
       "      <td>setosa</td>\n",
       "    </tr>\n",
       "    <tr>\n",
       "      <th>4</th>\n",
       "      <td>5.0</td>\n",
       "      <td>3.6</td>\n",
       "      <td>1.4</td>\n",
       "      <td>0.2</td>\n",
       "      <td>setosa</td>\n",
       "    </tr>\n",
       "    <tr>\n",
       "      <th>0</th>\n",
       "      <td>5.1</td>\n",
       "      <td>-999.0</td>\n",
       "      <td>1.4</td>\n",
       "      <td>0.2</td>\n",
       "      <td>setosa</td>\n",
       "    </tr>\n",
       "  </tbody>\n",
       "</table>\n",
       "</div>"
      ],
      "text/plain": [
       "   Sepal.Length  Sepal.Width  Petal.Length  Petal.Width Species\n",
       "3           4.6          3.1           1.5          0.2  setosa\n",
       "2           4.7          3.2           1.3          0.2  setosa\n",
       "1           4.9          3.0           1.4          0.2  setosa\n",
       "4           5.0          3.6           1.4          0.2  setosa\n",
       "0           5.1       -999.0           1.4          0.2  setosa"
      ]
     },
     "execution_count": 76,
     "metadata": {},
     "output_type": "execute_result"
    }
   ],
   "source": [
    "# df_sub.sort_values(\"Sepal.Length\")\n",
    "df_sub4 = df_sub.sort_values(\"Sepal.Length\") # 지시사항 없는 자의에 의한 정렬은 재시험의 지름길."
   ]
  },
  {
   "cell_type": "markdown",
   "id": "8680e38f-2d5a-41dd-930e-a4087ecb552d",
   "metadata": {},
   "source": [
    "* 원소/조합 세기: https://datadoctorblog.com/2023/04/04/Py-Basic-Pandas-Counting/\n",
    "* crosstab(): https://datadoctorblog.com/2023/05/06/Py-Basic-Pandas-Crosstab/"
   ]
  },
  {
   "cell_type": "code",
   "execution_count": null,
   "id": "4bd0f722-0535-42cb-b828-d852a619fa52",
   "metadata": {},
   "outputs": [],
   "source": [
    "df = pd.read_csv(\"bike.csv\")\n",
    "df.head(1)"
   ]
  },
  {
   "cell_type": "code",
   "execution_count": 81,
   "id": "65189f27-da26-4405-a398-122fd9021af8",
   "metadata": {},
   "outputs": [
    {
     "data": {
      "text/plain": [
       "array([1, 2, 3, 4])"
      ]
     },
     "execution_count": 81,
     "metadata": {},
     "output_type": "execute_result"
    }
   ],
   "source": [
    "df[\"season\"].unique()"
   ]
  },
  {
   "cell_type": "code",
   "execution_count": 82,
   "id": "4c5a1fab-8f5d-41e4-acc6-ed4e5af2b499",
   "metadata": {},
   "outputs": [
    {
     "data": {
      "text/plain": [
       "4"
      ]
     },
     "execution_count": 82,
     "metadata": {},
     "output_type": "execute_result"
    }
   ],
   "source": [
    "df[\"season\"].nunique()"
   ]
  },
  {
   "cell_type": "code",
   "execution_count": 83,
   "id": "f7f8ae5a-b0a0-4887-b8b6-1043ee858bcf",
   "metadata": {},
   "outputs": [
    {
     "data": {
      "text/plain": [
       "0       1\n",
       "1323    2\n",
       "2690    3\n",
       "4055    4\n",
       "Name: season, dtype: int64"
      ]
     },
     "execution_count": 83,
     "metadata": {},
     "output_type": "execute_result"
    }
   ],
   "source": [
    "df[\"season\"].drop_duplicates()"
   ]
  },
  {
   "cell_type": "code",
   "execution_count": null,
   "id": "d5339487-07ce-41ae-a151-282b0c47c392",
   "metadata": {},
   "outputs": [],
   "source": [
    "df.iloc[1322:1325, ]"
   ]
  },
  {
   "cell_type": "code",
   "execution_count": null,
   "id": "01652705-13d8-4991-bfa6-443edebc10d2",
   "metadata": {},
   "outputs": [],
   "source": [
    "df[\"season\"].value_counts()"
   ]
  },
  {
   "cell_type": "code",
   "execution_count": 88,
   "id": "34302dd6-f938-4b5a-8c9a-b3c060ee8980",
   "metadata": {},
   "outputs": [
    {
     "data": {
      "text/plain": [
       "season\n",
       "1    2686\n",
       "2    2733\n",
       "3    2733\n",
       "4    2734\n",
       "Name: count, dtype: int64"
      ]
     },
     "execution_count": 88,
     "metadata": {},
     "output_type": "execute_result"
    }
   ],
   "source": [
    "df[\"season\"].value_counts().sort_index()"
   ]
  },
  {
   "cell_type": "code",
   "execution_count": 89,
   "id": "53c31c8d-1e9b-4963-ae73-e788a356c2f5",
   "metadata": {},
   "outputs": [
    {
     "data": {
      "text/plain": [
       "season\n",
       "4    0.251148\n",
       "2    0.251056\n",
       "3    0.251056\n",
       "1    0.246739\n",
       "Name: proportion, dtype: float64"
      ]
     },
     "execution_count": 89,
     "metadata": {},
     "output_type": "execute_result"
    }
   ],
   "source": [
    "df[\"season\"].value_counts(normalize = True)"
   ]
  },
  {
   "cell_type": "code",
   "execution_count": null,
   "id": "bbaefba9-3cba-471a-9e71-cae80edd01cb",
   "metadata": {},
   "outputs": [],
   "source": [
    "df[[\"season\", \"holiday\"]].drop_duplicates()"
   ]
  },
  {
   "cell_type": "code",
   "execution_count": 91,
   "id": "8ed9bad9-1b51-4120-b70e-638dce4a7c14",
   "metadata": {},
   "outputs": [
    {
     "data": {
      "text/html": [
       "<div>\n",
       "<style scoped>\n",
       "    .dataframe tbody tr th:only-of-type {\n",
       "        vertical-align: middle;\n",
       "    }\n",
       "\n",
       "    .dataframe tbody tr th {\n",
       "        vertical-align: top;\n",
       "    }\n",
       "\n",
       "    .dataframe thead th {\n",
       "        text-align: right;\n",
       "    }\n",
       "</style>\n",
       "<table border=\"1\" class=\"dataframe\">\n",
       "  <thead>\n",
       "    <tr style=\"text-align: right;\">\n",
       "      <th>holiday</th>\n",
       "      <th>0</th>\n",
       "      <th>1</th>\n",
       "    </tr>\n",
       "    <tr>\n",
       "      <th>season</th>\n",
       "      <th></th>\n",
       "      <th></th>\n",
       "    </tr>\n",
       "  </thead>\n",
       "  <tbody>\n",
       "    <tr>\n",
       "      <th>1</th>\n",
       "      <td>2615</td>\n",
       "      <td>71</td>\n",
       "    </tr>\n",
       "    <tr>\n",
       "      <th>2</th>\n",
       "      <td>2685</td>\n",
       "      <td>48</td>\n",
       "    </tr>\n",
       "    <tr>\n",
       "      <th>3</th>\n",
       "      <td>2637</td>\n",
       "      <td>96</td>\n",
       "    </tr>\n",
       "    <tr>\n",
       "      <th>4</th>\n",
       "      <td>2638</td>\n",
       "      <td>96</td>\n",
       "    </tr>\n",
       "  </tbody>\n",
       "</table>\n",
       "</div>"
      ],
      "text/plain": [
       "holiday     0   1\n",
       "season           \n",
       "1        2615  71\n",
       "2        2685  48\n",
       "3        2637  96\n",
       "4        2638  96"
      ]
     },
     "execution_count": 91,
     "metadata": {},
     "output_type": "execute_result"
    }
   ],
   "source": [
    "pd.crosstab(df[\"season\"], df[\"holiday\"])"
   ]
  },
  {
   "cell_type": "markdown",
   "id": "436f77dc-413b-4a07-9c7a-15b526519b8b",
   "metadata": {},
   "source": [
    "* .groupby(): https://datadoctorblog.com/2023/04/28/Py-Basic-Pandas-Groupby/"
   ]
  },
  {
   "cell_type": "code",
   "execution_count": null,
   "id": "7ec5bc80-a5dc-43b9-9a2b-8bb9cbdc1887",
   "metadata": {},
   "outputs": [],
   "source": [
    "df = pd.read_csv(\"diamonds.csv\")\n",
    "df.head(2)"
   ]
  },
  {
   "cell_type": "code",
   "execution_count": null,
   "id": "f819a127-4b9d-4222-8781-4fc2c6ffcb9b",
   "metadata": {},
   "outputs": [],
   "source": [
    "df.groupby(\"color\")[\"price\"].max()"
   ]
  },
  {
   "cell_type": "code",
   "execution_count": null,
   "id": "e2a71cfa-6aa6-4856-a9f6-db6bf790d3ea",
   "metadata": {},
   "outputs": [],
   "source": [
    "df_g = df.groupby(\"color\")[\"price\"].max().reset_index()\n",
    "df_g"
   ]
  },
  {
   "cell_type": "code",
   "execution_count": null,
   "id": "9ce516b2-8184-4594-9c9f-7f757a24da06",
   "metadata": {},
   "outputs": [],
   "source": [
    "df.groupby(\"color\")[[\"price\", \"carat\"]].max()"
   ]
  },
  {
   "cell_type": "code",
   "execution_count": null,
   "id": "0c03af2e-d1bc-42ca-9b9c-1de6ea9caff2",
   "metadata": {},
   "outputs": [],
   "source": [
    "df.groupby([\"color\", \"cut\"])[\"price\"].mean()"
   ]
  },
  {
   "cell_type": "code",
   "execution_count": 99,
   "id": "88925069-5f44-414a-816b-c50cae97904a",
   "metadata": {},
   "outputs": [
    {
     "data": {
      "text/html": [
       "<div>\n",
       "<style scoped>\n",
       "    .dataframe tbody tr th:only-of-type {\n",
       "        vertical-align: middle;\n",
       "    }\n",
       "\n",
       "    .dataframe tbody tr th {\n",
       "        vertical-align: top;\n",
       "    }\n",
       "\n",
       "    .dataframe thead th {\n",
       "        text-align: right;\n",
       "    }\n",
       "</style>\n",
       "<table border=\"1\" class=\"dataframe\">\n",
       "  <thead>\n",
       "    <tr style=\"text-align: right;\">\n",
       "      <th></th>\n",
       "      <th>color</th>\n",
       "      <th>cut</th>\n",
       "      <th>price</th>\n",
       "    </tr>\n",
       "  </thead>\n",
       "  <tbody>\n",
       "    <tr>\n",
       "      <th>0</th>\n",
       "      <td>D</td>\n",
       "      <td>Fair</td>\n",
       "      <td>4291.061350</td>\n",
       "    </tr>\n",
       "    <tr>\n",
       "      <th>1</th>\n",
       "      <td>D</td>\n",
       "      <td>Good</td>\n",
       "      <td>3405.382175</td>\n",
       "    </tr>\n",
       "    <tr>\n",
       "      <th>2</th>\n",
       "      <td>D</td>\n",
       "      <td>Ideal</td>\n",
       "      <td>2629.094566</td>\n",
       "    </tr>\n",
       "    <tr>\n",
       "      <th>3</th>\n",
       "      <td>D</td>\n",
       "      <td>Premium</td>\n",
       "      <td>3631.292576</td>\n",
       "    </tr>\n",
       "    <tr>\n",
       "      <th>4</th>\n",
       "      <td>D</td>\n",
       "      <td>Very Good</td>\n",
       "      <td>3470.467284</td>\n",
       "    </tr>\n",
       "  </tbody>\n",
       "</table>\n",
       "</div>"
      ],
      "text/plain": [
       "  color        cut        price\n",
       "0     D       Fair  4291.061350\n",
       "1     D       Good  3405.382175\n",
       "2     D      Ideal  2629.094566\n",
       "3     D    Premium  3631.292576\n",
       "4     D  Very Good  3470.467284"
      ]
     },
     "execution_count": 99,
     "metadata": {},
     "output_type": "execute_result"
    }
   ],
   "source": [
    "df_g2 = df.groupby([\"color\", \"cut\"])[\"price\"].mean().reset_index()\n",
    "df_g2.head()"
   ]
  },
  {
   "cell_type": "code",
   "execution_count": 103,
   "id": "e47d00f2-4306-4254-9050-d2764beee7dc",
   "metadata": {},
   "outputs": [
    {
     "data": {
      "text/html": [
       "<div>\n",
       "<style scoped>\n",
       "    .dataframe tbody tr th:only-of-type {\n",
       "        vertical-align: middle;\n",
       "    }\n",
       "\n",
       "    .dataframe tbody tr th {\n",
       "        vertical-align: top;\n",
       "    }\n",
       "\n",
       "    .dataframe thead th {\n",
       "        text-align: right;\n",
       "    }\n",
       "</style>\n",
       "<table border=\"1\" class=\"dataframe\">\n",
       "  <thead>\n",
       "    <tr style=\"text-align: right;\">\n",
       "      <th></th>\n",
       "      <th>color</th>\n",
       "      <th>price</th>\n",
       "      <th>carat</th>\n",
       "    </tr>\n",
       "  </thead>\n",
       "  <tbody>\n",
       "    <tr>\n",
       "      <th>0</th>\n",
       "      <td>D</td>\n",
       "      <td>18693</td>\n",
       "      <td>0.20</td>\n",
       "    </tr>\n",
       "    <tr>\n",
       "      <th>1</th>\n",
       "      <td>E</td>\n",
       "      <td>18731</td>\n",
       "      <td>0.20</td>\n",
       "    </tr>\n",
       "    <tr>\n",
       "      <th>2</th>\n",
       "      <td>F</td>\n",
       "      <td>18791</td>\n",
       "      <td>0.20</td>\n",
       "    </tr>\n",
       "    <tr>\n",
       "      <th>3</th>\n",
       "      <td>G</td>\n",
       "      <td>18818</td>\n",
       "      <td>0.23</td>\n",
       "    </tr>\n",
       "    <tr>\n",
       "      <th>4</th>\n",
       "      <td>H</td>\n",
       "      <td>18803</td>\n",
       "      <td>0.23</td>\n",
       "    </tr>\n",
       "  </tbody>\n",
       "</table>\n",
       "</div>"
      ],
      "text/plain": [
       "  color  price  carat\n",
       "0     D  18693   0.20\n",
       "1     E  18731   0.20\n",
       "2     F  18791   0.20\n",
       "3     G  18818   0.23\n",
       "4     H  18803   0.23"
      ]
     },
     "execution_count": 103,
     "metadata": {},
     "output_type": "execute_result"
    }
   ],
   "source": [
    "# 시험 기출 전처리 유형🎯🎯🎯\n",
    "df_g3 = df.groupby(\"color\")[[\"price\", \"carat\"]].agg({\"price\": \"max\", \"carat\": \"min\"}).reset_index()\n",
    "df_g3.head() "
   ]
  },
  {
   "cell_type": "code",
   "execution_count": null,
   "id": "5a874d68-835e-4a7f-b77e-48eb2248371a",
   "metadata": {},
   "outputs": [],
   "source": [
    "df_tx = pd.DataFrame(dict(v1 = [100, 200, 300],\n",
    "                          v2 = [\"abc\", \"aaa\", \"ccc\"],\n",
    "                          v3 = [123, \"1234-5678\", \"010-1234-5678\"]))\n",
    "df_tx"
   ]
  },
  {
   "cell_type": "code",
   "execution_count": null,
   "id": "1c07712f-c7c3-41cd-847a-9b55640a042f",
   "metadata": {},
   "outputs": [],
   "source": [
    "df_tx[\"v2\"].replace(\"a\", \"🔥\")"
   ]
  },
  {
   "cell_type": "code",
   "execution_count": 108,
   "id": "9b5dfa06-15b1-4f5b-850b-034f8da579ab",
   "metadata": {},
   "outputs": [
    {
     "data": {
      "text/plain": [
       "0    abc\n",
       "1      🔥\n",
       "2    ccc\n",
       "Name: v2, dtype: object"
      ]
     },
     "execution_count": 108,
     "metadata": {},
     "output_type": "execute_result"
    }
   ],
   "source": [
    "df_tx[\"v2\"].replace(\"aaa\", \"🔥\")"
   ]
  },
  {
   "cell_type": "code",
   "execution_count": null,
   "id": "eb038a32-c5fe-46d3-b4e4-0954beb4b907",
   "metadata": {},
   "outputs": [],
   "source": [
    "df_tx[\"v2\"].replace({\"aaa\": \"🔥\", \"ccc\": \"🩵\"})"
   ]
  },
  {
   "cell_type": "code",
   "execution_count": null,
   "id": "d33772af-1f83-44ff-ba35-e13ab4716551",
   "metadata": {},
   "outputs": [],
   "source": [
    "df_tx[\"v2\"].str.replace(\"a\", \"🔥\")"
   ]
  },
  {
   "cell_type": "code",
   "execution_count": null,
   "id": "bfe7a273-1f01-4dfa-8235-48085228eb54",
   "metadata": {},
   "outputs": [],
   "source": [
    "df_tx[\"v2\"].str.replace(\"aaa\", \"🔥\")"
   ]
  },
  {
   "cell_type": "code",
   "execution_count": 112,
   "id": "6ca09a49-01db-4836-84fc-c6120c389bf6",
   "metadata": {},
   "outputs": [
    {
     "data": {
      "text/plain": [
       "0     True\n",
       "1     True\n",
       "2    False\n",
       "Name: v2, dtype: bool"
      ]
     },
     "execution_count": 112,
     "metadata": {},
     "output_type": "execute_result"
    }
   ],
   "source": [
    "df_tx[\"v2\"].str.contains(\"a\")"
   ]
  },
  {
   "cell_type": "code",
   "execution_count": 113,
   "id": "7948dafb-ed03-4b00-9d8f-9725cb62efa4",
   "metadata": {},
   "outputs": [
    {
     "data": {
      "text/plain": [
       "0    False\n",
       "1    False\n",
       "2     True\n",
       "Name: v2, dtype: bool"
      ]
     },
     "execution_count": 113,
     "metadata": {},
     "output_type": "execute_result"
    }
   ],
   "source": [
    "~df_tx[\"v2\"].str.contains(\"a\")"
   ]
  },
  {
   "cell_type": "code",
   "execution_count": null,
   "id": "d5efb897-1a3a-4729-acc8-5fd8bb0f0f98",
   "metadata": {},
   "outputs": [],
   "source": [
    "df_tx.loc[df_tx[\"v2\"].str.contains(\"a\"), ]"
   ]
  },
  {
   "cell_type": "code",
   "execution_count": 115,
   "id": "48153bca-86b4-460d-9d3e-df8fa8fadeff",
   "metadata": {},
   "outputs": [
    {
     "data": {
      "text/html": [
       "<div>\n",
       "<style scoped>\n",
       "    .dataframe tbody tr th:only-of-type {\n",
       "        vertical-align: middle;\n",
       "    }\n",
       "\n",
       "    .dataframe tbody tr th {\n",
       "        vertical-align: top;\n",
       "    }\n",
       "\n",
       "    .dataframe thead th {\n",
       "        text-align: right;\n",
       "    }\n",
       "</style>\n",
       "<table border=\"1\" class=\"dataframe\">\n",
       "  <thead>\n",
       "    <tr style=\"text-align: right;\">\n",
       "      <th></th>\n",
       "      <th>v1</th>\n",
       "      <th>v2</th>\n",
       "      <th>v3</th>\n",
       "    </tr>\n",
       "  </thead>\n",
       "  <tbody>\n",
       "    <tr>\n",
       "      <th>2</th>\n",
       "      <td>300</td>\n",
       "      <td>ccc</td>\n",
       "      <td>010-1234-5678</td>\n",
       "    </tr>\n",
       "  </tbody>\n",
       "</table>\n",
       "</div>"
      ],
      "text/plain": [
       "    v1   v2             v3\n",
       "2  300  ccc  010-1234-5678"
      ]
     },
     "execution_count": 115,
     "metadata": {},
     "output_type": "execute_result"
    }
   ],
   "source": [
    "df_tx.loc[~df_tx[\"v2\"].str.contains(\"a\"), ]"
   ]
  },
  {
   "cell_type": "code",
   "execution_count": 119,
   "id": "082b7a01-c966-4960-9546-80d164867367",
   "metadata": {},
   "outputs": [
    {
     "data": {
      "text/plain": [
       "array([123, '1234-5678', '010-1234-5678'], dtype=object)"
      ]
     },
     "execution_count": 119,
     "metadata": {},
     "output_type": "execute_result"
    }
   ],
   "source": [
    "df_tx[\"v3\"].values"
   ]
  },
  {
   "cell_type": "code",
   "execution_count": null,
   "id": "4ac7e350-84e3-48a3-b38a-22e01b777a13",
   "metadata": {},
   "outputs": [],
   "source": [
    "df_tx[\"v4\"] = df_tx[\"v3\"].astype(\"str\")\n",
    "df_tx[\"v4\"].str.split(\"-\")"
   ]
  },
  {
   "cell_type": "code",
   "execution_count": null,
   "id": "1402df1a-3e38-4aa3-9d77-aafc78da7b5e",
   "metadata": {},
   "outputs": [],
   "source": [
    "df_tx[\"v4\"].str.split(\"-\").explode()"
   ]
  },
  {
   "cell_type": "code",
   "execution_count": 122,
   "id": "214a6608-4e68-4fdd-9d76-0101684e87d6",
   "metadata": {},
   "outputs": [
    {
     "data": {
      "text/plain": [
       "array(['123', '1234', '5678', '010'], dtype=object)"
      ]
     },
     "execution_count": 122,
     "metadata": {},
     "output_type": "execute_result"
    }
   ],
   "source": [
    "df_tx[\"v4\"].str.split(\"-\").explode().unique()"
   ]
  },
  {
   "cell_type": "code",
   "execution_count": 126,
   "id": "f09b579d-ee50-4434-8ff8-00e12b51cd62",
   "metadata": {},
   "outputs": [
    {
     "data": {
      "text/html": [
       "<div>\n",
       "<style scoped>\n",
       "    .dataframe tbody tr th:only-of-type {\n",
       "        vertical-align: middle;\n",
       "    }\n",
       "\n",
       "    .dataframe tbody tr th {\n",
       "        vertical-align: top;\n",
       "    }\n",
       "\n",
       "    .dataframe thead th {\n",
       "        text-align: right;\n",
       "    }\n",
       "</style>\n",
       "<table border=\"1\" class=\"dataframe\">\n",
       "  <thead>\n",
       "    <tr style=\"text-align: right;\">\n",
       "      <th></th>\n",
       "      <th>0</th>\n",
       "      <th>1</th>\n",
       "      <th>2</th>\n",
       "    </tr>\n",
       "  </thead>\n",
       "  <tbody>\n",
       "    <tr>\n",
       "      <th>0</th>\n",
       "      <td>123</td>\n",
       "      <td>None</td>\n",
       "      <td>None</td>\n",
       "    </tr>\n",
       "    <tr>\n",
       "      <th>1</th>\n",
       "      <td>1234</td>\n",
       "      <td>5678</td>\n",
       "      <td>None</td>\n",
       "    </tr>\n",
       "    <tr>\n",
       "      <th>2</th>\n",
       "      <td>010</td>\n",
       "      <td>1234</td>\n",
       "      <td>5678</td>\n",
       "    </tr>\n",
       "  </tbody>\n",
       "</table>\n",
       "</div>"
      ],
      "text/plain": [
       "      0     1     2\n",
       "0   123  None  None\n",
       "1  1234  5678  None\n",
       "2   010  1234  5678"
      ]
     },
     "execution_count": 126,
     "metadata": {},
     "output_type": "execute_result"
    }
   ],
   "source": [
    "df_tx_v4 = df_tx[\"v4\"].str.split(\"-\", expand = True)\n",
    "df_tx_v4"
   ]
  },
  {
   "cell_type": "code",
   "execution_count": 125,
   "id": "356cbba8-aadf-4816-9903-fc52aee784e9",
   "metadata": {},
   "outputs": [
    {
     "data": {
      "text/html": [
       "<div>\n",
       "<style scoped>\n",
       "    .dataframe tbody tr th:only-of-type {\n",
       "        vertical-align: middle;\n",
       "    }\n",
       "\n",
       "    .dataframe tbody tr th {\n",
       "        vertical-align: top;\n",
       "    }\n",
       "\n",
       "    .dataframe thead th {\n",
       "        text-align: right;\n",
       "    }\n",
       "</style>\n",
       "<table border=\"1\" class=\"dataframe\">\n",
       "  <thead>\n",
       "    <tr style=\"text-align: right;\">\n",
       "      <th></th>\n",
       "      <th>v4_0</th>\n",
       "      <th>v4_1</th>\n",
       "      <th>v4_2</th>\n",
       "    </tr>\n",
       "  </thead>\n",
       "  <tbody>\n",
       "    <tr>\n",
       "      <th>0</th>\n",
       "      <td>123</td>\n",
       "      <td>🥗</td>\n",
       "      <td>🥗</td>\n",
       "    </tr>\n",
       "    <tr>\n",
       "      <th>1</th>\n",
       "      <td>1234</td>\n",
       "      <td>5678</td>\n",
       "      <td>🥗</td>\n",
       "    </tr>\n",
       "    <tr>\n",
       "      <th>2</th>\n",
       "      <td>010</td>\n",
       "      <td>1234</td>\n",
       "      <td>5678</td>\n",
       "    </tr>\n",
       "  </tbody>\n",
       "</table>\n",
       "</div>"
      ],
      "text/plain": [
       "   v4_0  v4_1  v4_2\n",
       "0   123     🥗     🥗\n",
       "1  1234  5678     🥗\n",
       "2   010  1234  5678"
      ]
     },
     "execution_count": 125,
     "metadata": {},
     "output_type": "execute_result"
    }
   ],
   "source": [
    "df_tx_v4_2 = df_tx_v4.add_prefix(\"v4_\")\n",
    "df_tx_v4_3 = df_tx_v4_2.fillna(\"🥗\")\n",
    "df_tx_v4_3"
   ]
  },
  {
   "cell_type": "markdown",
   "id": "7de22bed-aff6-4a67-9db6-c2e3eabaa206",
   "metadata": {},
   "source": [
    "* 시간데이터: https://datadoctorblog.com/2023/04/14/Py-Basic-Pandas-Time-Data/"
   ]
  },
  {
   "cell_type": "code",
   "execution_count": 130,
   "id": "6001ab93-d29a-443a-a35d-5b139ab85d6f",
   "metadata": {},
   "outputs": [],
   "source": [
    "ser_t1 = pd.Series([\"2077-12-18\", \"2077-12-19\", \"2077-12-20\"])\n",
    "ser_t2 = pd.Series([\"2077년 12월 18일\", \"2077년 12월 19일\", \"2077년 12월 20일\"])\n",
    "ser_t3 = pd.Series([20241218, 20241219, 20241220])\n",
    "ser_t4 = pd.Series([1234, 2345, 3456])"
   ]
  },
  {
   "cell_type": "code",
   "execution_count": null,
   "id": "7cc8f450-1eb6-4825-90e5-510d7c5d072b",
   "metadata": {},
   "outputs": [],
   "source": [
    "pd.to_datetime(ser_t1)"
   ]
  },
  {
   "cell_type": "code",
   "execution_count": null,
   "id": "cb2e51d6-a17b-44bc-ad2a-7a4b5f00ca69",
   "metadata": {},
   "outputs": [],
   "source": [
    "# pd.to_datetime(ser_t2) # 에러!!"
   ]
  },
  {
   "cell_type": "code",
   "execution_count": null,
   "id": "b28e9024-118f-49a9-a6d5-7e0a7c2d357d",
   "metadata": {},
   "outputs": [],
   "source": [
    "# https://docs.python.org/3/library/datetime.html#strftime-and-strptime-behavior"
   ]
  },
  {
   "cell_type": "code",
   "execution_count": 133,
   "id": "e3f4998d-5587-4d5d-a5e0-e27abdda8ce4",
   "metadata": {},
   "outputs": [
    {
     "data": {
      "text/plain": [
       "0   2077-12-18\n",
       "1   2077-12-19\n",
       "2   2077-12-20\n",
       "dtype: datetime64[ns]"
      ]
     },
     "execution_count": 133,
     "metadata": {},
     "output_type": "execute_result"
    }
   ],
   "source": [
    "pd.to_datetime(ser_t2, format = \"%Y년 %m월 %d일\")"
   ]
  },
  {
   "cell_type": "code",
   "execution_count": null,
   "id": "f5c9b9c4-1263-4cb3-8a18-56266aac5885",
   "metadata": {},
   "outputs": [],
   "source": [
    "pd.to_datetime(ser_t3)"
   ]
  },
  {
   "cell_type": "code",
   "execution_count": null,
   "id": "7a3313cc-5641-4210-8c57-4ca1c5c10afb",
   "metadata": {},
   "outputs": [],
   "source": [
    "pd.to_datetime(ser_t3.astype(\"str\"))"
   ]
  },
  {
   "cell_type": "code",
   "execution_count": 136,
   "id": "e1030fc9-70ee-42ed-ba1a-36afd30d0855",
   "metadata": {},
   "outputs": [
    {
     "data": {
      "text/plain": [
       "0   1970-01-01 00:00:00.000001234\n",
       "1   1970-01-01 00:00:00.000002345\n",
       "2   1970-01-01 00:00:00.000003456\n",
       "dtype: datetime64[ns]"
      ]
     },
     "execution_count": 136,
     "metadata": {},
     "output_type": "execute_result"
    }
   ],
   "source": [
    "pd.to_datetime(ser_t4)"
   ]
  },
  {
   "cell_type": "code",
   "execution_count": 139,
   "id": "e301694c-7738-4cc0-88cf-107c08596c93",
   "metadata": {},
   "outputs": [
    {
     "data": {
      "text/plain": [
       "0   2073-05-19\n",
       "1   2076-06-03\n",
       "2   2079-06-19\n",
       "dtype: datetime64[ns]"
      ]
     },
     "execution_count": 139,
     "metadata": {},
     "output_type": "execute_result"
    }
   ],
   "source": [
    "pd.to_datetime(ser_t4, origin = \"2070-01-01\", unit = \"D\")"
   ]
  },
  {
   "cell_type": "code",
   "execution_count": null,
   "id": "2874712a-7f6e-4fa0-9fc0-8967f70d29a8",
   "metadata": {},
   "outputs": [],
   "source": [
    "df = pd.read_csv(\"bike.csv\")\n",
    "df.head(1)"
   ]
  },
  {
   "cell_type": "code",
   "execution_count": null,
   "id": "8e35b439-ac63-42e3-bbe8-62bb3ad668de",
   "metadata": {},
   "outputs": [],
   "source": [
    "df_dt2 = df[[\"datetime\"]].copy()\n",
    "df_dt2.head(2)"
   ]
  },
  {
   "cell_type": "code",
   "execution_count": 145,
   "id": "54308ba0-83ea-49f7-9697-625f2bb07c8b",
   "metadata": {},
   "outputs": [],
   "source": [
    "df_dt2[\"datetime\"] = pd.to_datetime(df_dt2[\"datetime\"])"
   ]
  },
  {
   "cell_type": "code",
   "execution_count": 147,
   "id": "02b2c941-478b-461f-af91-6d5bc0bc8a27",
   "metadata": {},
   "outputs": [],
   "source": [
    "df_dt2[\"date\"  ] = df_dt2[\"datetime\"].dt.date\n",
    "df_dt2[\"yyyymm\"] = df_dt2[\"datetime\"].dt.strftime(\"%Y-%m\")\n",
    "df_dt2[\"year\"  ] = df_dt2[\"datetime\"].dt.year\n",
    "df_dt2[\"month\" ] = df_dt2[\"datetime\"].dt.month\n",
    "df_dt2[\"wday\"  ] = df_dt2[\"datetime\"].dt.weekday\n",
    "df_dt2[\"wend\"  ] = np.where(df_dt2[\"wday\"] >= 5, 1, 0)\n",
    "df_dt2[\"hour\"  ] = df_dt2[\"datetime\"].dt.hour\n",
    "df_dt2[\"dt_s9h\"] = df_dt2[\"datetime\"] + pd.to_timedelta(9, unit = \"h\")"
   ]
  },
  {
   "cell_type": "code",
   "execution_count": 148,
   "id": "aadbbe4b-b10f-4fad-ac2e-026f3a9314a9",
   "metadata": {},
   "outputs": [
    {
     "data": {
      "text/html": [
       "<div>\n",
       "<style scoped>\n",
       "    .dataframe tbody tr th:only-of-type {\n",
       "        vertical-align: middle;\n",
       "    }\n",
       "\n",
       "    .dataframe tbody tr th {\n",
       "        vertical-align: top;\n",
       "    }\n",
       "\n",
       "    .dataframe thead th {\n",
       "        text-align: right;\n",
       "    }\n",
       "</style>\n",
       "<table border=\"1\" class=\"dataframe\">\n",
       "  <thead>\n",
       "    <tr style=\"text-align: right;\">\n",
       "      <th></th>\n",
       "      <th>datetime</th>\n",
       "      <th>date</th>\n",
       "      <th>yyyymm</th>\n",
       "      <th>year</th>\n",
       "      <th>month</th>\n",
       "      <th>wday</th>\n",
       "      <th>wend</th>\n",
       "      <th>hour</th>\n",
       "      <th>dt_s9h</th>\n",
       "    </tr>\n",
       "  </thead>\n",
       "  <tbody>\n",
       "    <tr>\n",
       "      <th>0</th>\n",
       "      <td>2011-01-01 00:00:00</td>\n",
       "      <td>2011-01-01</td>\n",
       "      <td>2011-01</td>\n",
       "      <td>2011</td>\n",
       "      <td>1</td>\n",
       "      <td>5</td>\n",
       "      <td>1</td>\n",
       "      <td>0</td>\n",
       "      <td>2011-01-01 09:00:00</td>\n",
       "    </tr>\n",
       "    <tr>\n",
       "      <th>1</th>\n",
       "      <td>2011-01-01 01:00:00</td>\n",
       "      <td>2011-01-01</td>\n",
       "      <td>2011-01</td>\n",
       "      <td>2011</td>\n",
       "      <td>1</td>\n",
       "      <td>5</td>\n",
       "      <td>1</td>\n",
       "      <td>1</td>\n",
       "      <td>2011-01-01 10:00:00</td>\n",
       "    </tr>\n",
       "    <tr>\n",
       "      <th>2</th>\n",
       "      <td>2011-01-01 02:00:00</td>\n",
       "      <td>2011-01-01</td>\n",
       "      <td>2011-01</td>\n",
       "      <td>2011</td>\n",
       "      <td>1</td>\n",
       "      <td>5</td>\n",
       "      <td>1</td>\n",
       "      <td>2</td>\n",
       "      <td>2011-01-01 11:00:00</td>\n",
       "    </tr>\n",
       "    <tr>\n",
       "      <th>3</th>\n",
       "      <td>2011-01-01 03:00:00</td>\n",
       "      <td>2011-01-01</td>\n",
       "      <td>2011-01</td>\n",
       "      <td>2011</td>\n",
       "      <td>1</td>\n",
       "      <td>5</td>\n",
       "      <td>1</td>\n",
       "      <td>3</td>\n",
       "      <td>2011-01-01 12:00:00</td>\n",
       "    </tr>\n",
       "    <tr>\n",
       "      <th>4</th>\n",
       "      <td>2011-01-01 04:00:00</td>\n",
       "      <td>2011-01-01</td>\n",
       "      <td>2011-01</td>\n",
       "      <td>2011</td>\n",
       "      <td>1</td>\n",
       "      <td>5</td>\n",
       "      <td>1</td>\n",
       "      <td>4</td>\n",
       "      <td>2011-01-01 13:00:00</td>\n",
       "    </tr>\n",
       "  </tbody>\n",
       "</table>\n",
       "</div>"
      ],
      "text/plain": [
       "             datetime        date   yyyymm  year  month  wday  wend  hour  \\\n",
       "0 2011-01-01 00:00:00  2011-01-01  2011-01  2011      1     5     1     0   \n",
       "1 2011-01-01 01:00:00  2011-01-01  2011-01  2011      1     5     1     1   \n",
       "2 2011-01-01 02:00:00  2011-01-01  2011-01  2011      1     5     1     2   \n",
       "3 2011-01-01 03:00:00  2011-01-01  2011-01  2011      1     5     1     3   \n",
       "4 2011-01-01 04:00:00  2011-01-01  2011-01  2011      1     5     1     4   \n",
       "\n",
       "               dt_s9h  \n",
       "0 2011-01-01 09:00:00  \n",
       "1 2011-01-01 10:00:00  \n",
       "2 2011-01-01 11:00:00  \n",
       "3 2011-01-01 12:00:00  \n",
       "4 2011-01-01 13:00:00  "
      ]
     },
     "execution_count": 148,
     "metadata": {},
     "output_type": "execute_result"
    }
   ],
   "source": [
    "df_dt2.head()"
   ]
  },
  {
   "cell_type": "code",
   "execution_count": 149,
   "id": "1ffb3cf3-8b4d-4ce0-854b-93a0bf36ab4a",
   "metadata": {},
   "outputs": [
    {
     "data": {
      "text/plain": [
       "datetime    datetime64[ns]\n",
       "date                object\n",
       "yyyymm              object\n",
       "year                 int32\n",
       "month                int32\n",
       "wday                 int32\n",
       "wend                 int64\n",
       "hour                 int32\n",
       "dt_s9h      datetime64[ns]\n",
       "dtype: object"
      ]
     },
     "execution_count": 149,
     "metadata": {},
     "output_type": "execute_result"
    }
   ],
   "source": [
    "df_dt2.dtypes"
   ]
  },
  {
   "cell_type": "code",
   "execution_count": null,
   "id": "fdb2f571-38c1-4e3d-8f72-d12b248cb4e2",
   "metadata": {},
   "outputs": [],
   "source": [
    "df_dt = pd.DataFrame(dict(date = [\"2077-08-01\", \"2077-08-02\", \"2077-08-03\"]))\n",
    "df_dt[\"origin\"] = \"2077-01-01\"\n",
    "df_dt[\"date\"  ] = pd.to_datetime(df_dt[\"date\"])\n",
    "df_dt[\"origin\"] = pd.to_datetime(df_dt[\"origin\"])\n",
    "df_dt[\"diff\"  ] = df_dt[\"date\"] - df_dt[\"origin\"]\n",
    "df_dt[\"diff_d\"] = df_dt[\"diff\"].dt.days # <-- \n",
    "df_dt"
   ]
  },
  {
   "cell_type": "code",
   "execution_count": 168,
   "id": "f5f615d5-9de0-4a0e-9644-353afa45ca33",
   "metadata": {},
   "outputs": [
    {
     "data": {
      "text/plain": [
       "0   212 days\n",
       "1   213 days\n",
       "2   214 days\n",
       "Name: diff, dtype: timedelta64[ns]"
      ]
     },
     "execution_count": 168,
     "metadata": {},
     "output_type": "execute_result"
    }
   ],
   "source": [
    "df_dt[\"diff\"  ]"
   ]
  },
  {
   "cell_type": "code",
   "execution_count": 167,
   "id": "2ee0fe72-143d-4b8a-b0af-9a803d214a0b",
   "metadata": {},
   "outputs": [
    {
     "data": {
      "text/plain": [
       "0    212.0\n",
       "1    213.0\n",
       "2    214.0\n",
       "Name: diff, dtype: float64"
      ]
     },
     "execution_count": 167,
     "metadata": {},
     "output_type": "execute_result"
    }
   ],
   "source": [
    "df_dt[\"diff\"  ].dt.total_seconds() / (3600 * 24)"
   ]
  },
  {
   "cell_type": "code",
   "execution_count": 169,
   "id": "c47eff86-0f67-4fa6-a4e4-194173e740b5",
   "metadata": {},
   "outputs": [],
   "source": [
    "df_t = pd.DataFrame(dict(date = pd.date_range(\"2024-01-01\", \"2024-01-07\"),\n",
    "                         v = [100, 200, 300, np.nan, 500, 600, 700]))\n",
    "df_t[\"v_s1\"] = df_t[\"v\"].shift(1)\n",
    "df_t[\"v_s2\"] = df_t[\"v\"].shift(2) # 굳이 필요 없음.\n",
    "df_t[\"v_sn1\"] = df_t[\"v\"].shift(-1)\n",
    "df_t[\"v_fill_1\"] = np.where(df_t[\"v\"].isna(), (df_t[\"v_s1\"] + df_t[\"v_sn1\"]) / 2, df_t[\"v\"])\n",
    "df_t[\"v_fill_2\"] = df_t[\"v\"].interpolate()"
   ]
  },
  {
   "cell_type": "code",
   "execution_count": 170,
   "id": "e2992170-973b-4089-9a6e-066444998467",
   "metadata": {},
   "outputs": [
    {
     "data": {
      "text/html": [
       "<div>\n",
       "<style scoped>\n",
       "    .dataframe tbody tr th:only-of-type {\n",
       "        vertical-align: middle;\n",
       "    }\n",
       "\n",
       "    .dataframe tbody tr th {\n",
       "        vertical-align: top;\n",
       "    }\n",
       "\n",
       "    .dataframe thead th {\n",
       "        text-align: right;\n",
       "    }\n",
       "</style>\n",
       "<table border=\"1\" class=\"dataframe\">\n",
       "  <thead>\n",
       "    <tr style=\"text-align: right;\">\n",
       "      <th></th>\n",
       "      <th>date</th>\n",
       "      <th>v</th>\n",
       "      <th>v_s1</th>\n",
       "      <th>v_s2</th>\n",
       "      <th>v_sn1</th>\n",
       "      <th>v_fill_1</th>\n",
       "      <th>v_fill_2</th>\n",
       "    </tr>\n",
       "  </thead>\n",
       "  <tbody>\n",
       "    <tr>\n",
       "      <th>0</th>\n",
       "      <td>2024-01-01</td>\n",
       "      <td>100.0</td>\n",
       "      <td>NaN</td>\n",
       "      <td>NaN</td>\n",
       "      <td>200.0</td>\n",
       "      <td>100.0</td>\n",
       "      <td>100.0</td>\n",
       "    </tr>\n",
       "    <tr>\n",
       "      <th>1</th>\n",
       "      <td>2024-01-02</td>\n",
       "      <td>200.0</td>\n",
       "      <td>100.0</td>\n",
       "      <td>NaN</td>\n",
       "      <td>300.0</td>\n",
       "      <td>200.0</td>\n",
       "      <td>200.0</td>\n",
       "    </tr>\n",
       "    <tr>\n",
       "      <th>2</th>\n",
       "      <td>2024-01-03</td>\n",
       "      <td>300.0</td>\n",
       "      <td>200.0</td>\n",
       "      <td>100.0</td>\n",
       "      <td>NaN</td>\n",
       "      <td>300.0</td>\n",
       "      <td>300.0</td>\n",
       "    </tr>\n",
       "    <tr>\n",
       "      <th>3</th>\n",
       "      <td>2024-01-04</td>\n",
       "      <td>NaN</td>\n",
       "      <td>300.0</td>\n",
       "      <td>200.0</td>\n",
       "      <td>500.0</td>\n",
       "      <td>400.0</td>\n",
       "      <td>400.0</td>\n",
       "    </tr>\n",
       "    <tr>\n",
       "      <th>4</th>\n",
       "      <td>2024-01-05</td>\n",
       "      <td>500.0</td>\n",
       "      <td>NaN</td>\n",
       "      <td>300.0</td>\n",
       "      <td>600.0</td>\n",
       "      <td>500.0</td>\n",
       "      <td>500.0</td>\n",
       "    </tr>\n",
       "    <tr>\n",
       "      <th>5</th>\n",
       "      <td>2024-01-06</td>\n",
       "      <td>600.0</td>\n",
       "      <td>500.0</td>\n",
       "      <td>NaN</td>\n",
       "      <td>700.0</td>\n",
       "      <td>600.0</td>\n",
       "      <td>600.0</td>\n",
       "    </tr>\n",
       "    <tr>\n",
       "      <th>6</th>\n",
       "      <td>2024-01-07</td>\n",
       "      <td>700.0</td>\n",
       "      <td>600.0</td>\n",
       "      <td>500.0</td>\n",
       "      <td>NaN</td>\n",
       "      <td>700.0</td>\n",
       "      <td>700.0</td>\n",
       "    </tr>\n",
       "  </tbody>\n",
       "</table>\n",
       "</div>"
      ],
      "text/plain": [
       "        date      v   v_s1   v_s2  v_sn1  v_fill_1  v_fill_2\n",
       "0 2024-01-01  100.0    NaN    NaN  200.0     100.0     100.0\n",
       "1 2024-01-02  200.0  100.0    NaN  300.0     200.0     200.0\n",
       "2 2024-01-03  300.0  200.0  100.0    NaN     300.0     300.0\n",
       "3 2024-01-04    NaN  300.0  200.0  500.0     400.0     400.0\n",
       "4 2024-01-05  500.0    NaN  300.0  600.0     500.0     500.0\n",
       "5 2024-01-06  600.0  500.0    NaN  700.0     600.0     600.0\n",
       "6 2024-01-07  700.0  600.0  500.0    NaN     700.0     700.0"
      ]
     },
     "execution_count": 170,
     "metadata": {},
     "output_type": "execute_result"
    }
   ],
   "source": [
    "df_t"
   ]
  },
  {
   "cell_type": "code",
   "execution_count": null,
   "id": "3c1d7661-dd5c-4c82-8f1f-d4bcb3effabe",
   "metadata": {},
   "outputs": [],
   "source": [
    "df_e = pd.read_csv(\"elec_load_2017_7d.csv\")\n",
    "df_e.head(1)"
   ]
  },
  {
   "cell_type": "code",
   "execution_count": null,
   "id": "38f6f4d4-826a-4ed3-984f-70a866e56196",
   "metadata": {},
   "outputs": [],
   "source": [
    "df_e_m = df_e.melt(id_vars = [\"YEAR\", \"MONTH\", \"DAY\"])\n",
    "df_e_m.head(2)"
   ]
  },
  {
   "cell_type": "code",
   "execution_count": 175,
   "id": "5f24f2b1-efb3-4a36-b774-f71ceaaec7a8",
   "metadata": {},
   "outputs": [
    {
     "data": {
      "text/html": [
       "<div>\n",
       "<style scoped>\n",
       "    .dataframe tbody tr th:only-of-type {\n",
       "        vertical-align: middle;\n",
       "    }\n",
       "\n",
       "    .dataframe tbody tr th {\n",
       "        vertical-align: top;\n",
       "    }\n",
       "\n",
       "    .dataframe thead th {\n",
       "        text-align: right;\n",
       "    }\n",
       "</style>\n",
       "<table border=\"1\" class=\"dataframe\">\n",
       "  <thead>\n",
       "    <tr style=\"text-align: right;\">\n",
       "      <th></th>\n",
       "      <th>YEAR</th>\n",
       "      <th>MONTH</th>\n",
       "      <th>DAY</th>\n",
       "      <th>HOUR</th>\n",
       "      <th>LOAD</th>\n",
       "    </tr>\n",
       "  </thead>\n",
       "  <tbody>\n",
       "    <tr>\n",
       "      <th>0</th>\n",
       "      <td>2017</td>\n",
       "      <td>1</td>\n",
       "      <td>1</td>\n",
       "      <td>X1HR</td>\n",
       "      <td>60178</td>\n",
       "    </tr>\n",
       "    <tr>\n",
       "      <th>1</th>\n",
       "      <td>2017</td>\n",
       "      <td>1</td>\n",
       "      <td>2</td>\n",
       "      <td>X1HR</td>\n",
       "      <td>57067</td>\n",
       "    </tr>\n",
       "  </tbody>\n",
       "</table>\n",
       "</div>"
      ],
      "text/plain": [
       "   YEAR  MONTH  DAY  HOUR   LOAD\n",
       "0  2017      1    1  X1HR  60178\n",
       "1  2017      1    2  X1HR  57067"
      ]
     },
     "execution_count": 175,
     "metadata": {},
     "output_type": "execute_result"
    }
   ],
   "source": [
    "df_e_m = df_e.melt(id_vars = [\"YEAR\", \"MONTH\", \"DAY\"], var_name = \"HOUR\", value_name = \"LOAD\")\n",
    "df_e_m.head(2)"
   ]
  },
  {
   "cell_type": "code",
   "execution_count": 176,
   "id": "90254bb4-6924-4516-9754-d2d3082b2b71",
   "metadata": {},
   "outputs": [],
   "source": [
    "df_e_m[\"h1\"] = df_e_m[\"HOUR\"].str.replace(\"X\", \"\").str.replace(\"HR\", \"\")\n",
    "# regex: regular expression 정규표현식\n",
    "df_e_m[\"h2\"] = df_e_m[\"HOUR\"].str.replace(\"X|HR\", \"\", regex = True) # X 또는 HR 을 제거\n",
    "df_e_m[\"h3\"] = df_e_m[\"HOUR\"].str.replace(\"[A-Z]\", \"\", regex = True)\n",
    "df_e_m[\"h4\"] = df_e_m[\"HOUR\"].str.replace(\"[^0-9]\", \"\", regex = True)\n",
    "df_e_m[\"h5\"] = df_e_m[\"h1\"].astype(\"int\")"
   ]
  },
  {
   "cell_type": "code",
   "execution_count": 181,
   "id": "12b1a617-6f12-4cd0-82ac-e9f1c24217c8",
   "metadata": {},
   "outputs": [
    {
     "data": {
      "text/html": [
       "<div>\n",
       "<style scoped>\n",
       "    .dataframe tbody tr th:only-of-type {\n",
       "        vertical-align: middle;\n",
       "    }\n",
       "\n",
       "    .dataframe tbody tr th {\n",
       "        vertical-align: top;\n",
       "    }\n",
       "\n",
       "    .dataframe thead th {\n",
       "        text-align: right;\n",
       "    }\n",
       "</style>\n",
       "<table border=\"1\" class=\"dataframe\">\n",
       "  <thead>\n",
       "    <tr style=\"text-align: right;\">\n",
       "      <th></th>\n",
       "      <th>YEAR</th>\n",
       "      <th>MONTH</th>\n",
       "      <th>DAY</th>\n",
       "      <th>HOUR</th>\n",
       "      <th>LOAD</th>\n",
       "      <th>h1</th>\n",
       "      <th>h2</th>\n",
       "      <th>h3</th>\n",
       "      <th>h4</th>\n",
       "      <th>h5</th>\n",
       "    </tr>\n",
       "  </thead>\n",
       "  <tbody>\n",
       "    <tr>\n",
       "      <th>166</th>\n",
       "      <td>2017</td>\n",
       "      <td>1</td>\n",
       "      <td>6</td>\n",
       "      <td>X24HR</td>\n",
       "      <td>63214</td>\n",
       "      <td>24</td>\n",
       "      <td>24</td>\n",
       "      <td>24</td>\n",
       "      <td>24</td>\n",
       "      <td>24</td>\n",
       "    </tr>\n",
       "    <tr>\n",
       "      <th>167</th>\n",
       "      <td>2017</td>\n",
       "      <td>1</td>\n",
       "      <td>7</td>\n",
       "      <td>X24HR</td>\n",
       "      <td>69219</td>\n",
       "      <td>24</td>\n",
       "      <td>24</td>\n",
       "      <td>24</td>\n",
       "      <td>24</td>\n",
       "      <td>24</td>\n",
       "    </tr>\n",
       "  </tbody>\n",
       "</table>\n",
       "</div>"
      ],
      "text/plain": [
       "     YEAR  MONTH  DAY   HOUR   LOAD  h1  h2  h3  h4  h5\n",
       "166  2017      1    6  X24HR  63214  24  24  24  24  24\n",
       "167  2017      1    7  X24HR  69219  24  24  24  24  24"
      ]
     },
     "execution_count": 181,
     "metadata": {},
     "output_type": "execute_result"
    }
   ],
   "source": [
    "df_e_m.tail(2)"
   ]
  },
  {
   "cell_type": "code",
   "execution_count": null,
   "id": "a4ba36a8-ec66-49ee-8be7-a380cf0fa036",
   "metadata": {},
   "outputs": [],
   "source": [
    "df_e_m.dtypes"
   ]
  },
  {
   "cell_type": "code",
   "execution_count": null,
   "id": "1374a08a-7138-43e8-8174-2d5fc106ecd4",
   "metadata": {},
   "outputs": [],
   "source": [
    "df = pd.read_csv(\"diamonds.csv\")\n",
    "df.head(1)"
   ]
  },
  {
   "cell_type": "code",
   "execution_count": 194,
   "id": "53b3cbb4-71af-4998-b75f-afa19ffa2d87",
   "metadata": {},
   "outputs": [
    {
     "data": {
      "text/html": [
       "<div>\n",
       "<style scoped>\n",
       "    .dataframe tbody tr th:only-of-type {\n",
       "        vertical-align: middle;\n",
       "    }\n",
       "\n",
       "    .dataframe tbody tr th {\n",
       "        vertical-align: top;\n",
       "    }\n",
       "\n",
       "    .dataframe thead th {\n",
       "        text-align: right;\n",
       "    }\n",
       "</style>\n",
       "<table border=\"1\" class=\"dataframe\">\n",
       "  <thead>\n",
       "    <tr style=\"text-align: right;\">\n",
       "      <th></th>\n",
       "      <th>clarity</th>\n",
       "      <th>cut</th>\n",
       "      <th>price</th>\n",
       "    </tr>\n",
       "  </thead>\n",
       "  <tbody>\n",
       "    <tr>\n",
       "      <th>0</th>\n",
       "      <td>I1</td>\n",
       "      <td>Fair</td>\n",
       "      <td>3703.533333</td>\n",
       "    </tr>\n",
       "    <tr>\n",
       "      <th>1</th>\n",
       "      <td>I1</td>\n",
       "      <td>Good</td>\n",
       "      <td>3596.635417</td>\n",
       "    </tr>\n",
       "  </tbody>\n",
       "</table>\n",
       "</div>"
      ],
      "text/plain": [
       "  clarity   cut        price\n",
       "0      I1  Fair  3703.533333\n",
       "1      I1  Good  3596.635417"
      ]
     },
     "execution_count": 194,
     "metadata": {},
     "output_type": "execute_result"
    }
   ],
   "source": [
    "df_g1 = df.groupby([\"clarity\", \"cut\"])[\"price\"].mean().reset_index()\n",
    "df_g1.head(2)"
   ]
  },
  {
   "cell_type": "code",
   "execution_count": 195,
   "id": "b63e4262-46c8-4bcb-93e0-edca615c43b1",
   "metadata": {},
   "outputs": [
    {
     "data": {
      "text/html": [
       "<div>\n",
       "<style scoped>\n",
       "    .dataframe tbody tr th:only-of-type {\n",
       "        vertical-align: middle;\n",
       "    }\n",
       "\n",
       "    .dataframe tbody tr th {\n",
       "        vertical-align: top;\n",
       "    }\n",
       "\n",
       "    .dataframe thead th {\n",
       "        text-align: right;\n",
       "    }\n",
       "</style>\n",
       "<table border=\"1\" class=\"dataframe\">\n",
       "  <thead>\n",
       "    <tr style=\"text-align: right;\">\n",
       "      <th>cut</th>\n",
       "      <th>clarity</th>\n",
       "      <th>Fair</th>\n",
       "      <th>Good</th>\n",
       "      <th>Ideal</th>\n",
       "      <th>Premium</th>\n",
       "      <th>Very Good</th>\n",
       "    </tr>\n",
       "  </thead>\n",
       "  <tbody>\n",
       "    <tr>\n",
       "      <th>0</th>\n",
       "      <td>I1</td>\n",
       "      <td>3703.5</td>\n",
       "      <td>3596.6</td>\n",
       "      <td>4335.7</td>\n",
       "      <td>3947.3</td>\n",
       "      <td>4078.2</td>\n",
       "    </tr>\n",
       "    <tr>\n",
       "      <th>1</th>\n",
       "      <td>IF</td>\n",
       "      <td>1912.3</td>\n",
       "      <td>4098.3</td>\n",
       "      <td>2272.9</td>\n",
       "      <td>3856.1</td>\n",
       "      <td>4396.2</td>\n",
       "    </tr>\n",
       "    <tr>\n",
       "      <th>2</th>\n",
       "      <td>SI1</td>\n",
       "      <td>4208.3</td>\n",
       "      <td>3689.5</td>\n",
       "      <td>3752.1</td>\n",
       "      <td>4455.3</td>\n",
       "      <td>3932.4</td>\n",
       "    </tr>\n",
       "    <tr>\n",
       "      <th>3</th>\n",
       "      <td>SI2</td>\n",
       "      <td>5173.9</td>\n",
       "      <td>4580.3</td>\n",
       "      <td>4756.0</td>\n",
       "      <td>5545.9</td>\n",
       "      <td>4988.7</td>\n",
       "    </tr>\n",
       "    <tr>\n",
       "      <th>4</th>\n",
       "      <td>VS1</td>\n",
       "      <td>4165.1</td>\n",
       "      <td>3801.4</td>\n",
       "      <td>3489.7</td>\n",
       "      <td>4485.5</td>\n",
       "      <td>3805.4</td>\n",
       "    </tr>\n",
       "    <tr>\n",
       "      <th>5</th>\n",
       "      <td>VS2</td>\n",
       "      <td>4174.7</td>\n",
       "      <td>4262.2</td>\n",
       "      <td>3284.6</td>\n",
       "      <td>4550.3</td>\n",
       "      <td>4215.8</td>\n",
       "    </tr>\n",
       "    <tr>\n",
       "      <th>6</th>\n",
       "      <td>VVS1</td>\n",
       "      <td>3871.4</td>\n",
       "      <td>2254.8</td>\n",
       "      <td>2468.1</td>\n",
       "      <td>2831.2</td>\n",
       "      <td>2459.4</td>\n",
       "    </tr>\n",
       "    <tr>\n",
       "      <th>7</th>\n",
       "      <td>VVS2</td>\n",
       "      <td>3349.8</td>\n",
       "      <td>3079.1</td>\n",
       "      <td>3250.3</td>\n",
       "      <td>3795.1</td>\n",
       "      <td>3037.8</td>\n",
       "    </tr>\n",
       "  </tbody>\n",
       "</table>\n",
       "</div>"
      ],
      "text/plain": [
       "cut clarity    Fair    Good   Ideal  Premium  Very Good\n",
       "0        I1  3703.5  3596.6  4335.7   3947.3     4078.2\n",
       "1        IF  1912.3  4098.3  2272.9   3856.1     4396.2\n",
       "2       SI1  4208.3  3689.5  3752.1   4455.3     3932.4\n",
       "3       SI2  5173.9  4580.3  4756.0   5545.9     4988.7\n",
       "4       VS1  4165.1  3801.4  3489.7   4485.5     3805.4\n",
       "5       VS2  4174.7  4262.2  3284.6   4550.3     4215.8\n",
       "6      VVS1  3871.4  2254.8  2468.1   2831.2     2459.4\n",
       "7      VVS2  3349.8  3079.1  3250.3   3795.1     3037.8"
      ]
     },
     "execution_count": 195,
     "metadata": {},
     "output_type": "execute_result"
    }
   ],
   "source": [
    "df_g2 = pd.crosstab(index = df[\"clarity\"], columns = df[\"cut\"], values = df[\"price\"], aggfunc = \"mean\")\n",
    "df_g2 = df_g2.round(1).reset_index()\n",
    "df_g2"
   ]
  },
  {
   "cell_type": "code",
   "execution_count": 196,
   "id": "291e1021-cefc-44b8-8b63-8d70cac124af",
   "metadata": {},
   "outputs": [
    {
     "data": {
      "text/html": [
       "<div>\n",
       "<style scoped>\n",
       "    .dataframe tbody tr th:only-of-type {\n",
       "        vertical-align: middle;\n",
       "    }\n",
       "\n",
       "    .dataframe tbody tr th {\n",
       "        vertical-align: top;\n",
       "    }\n",
       "\n",
       "    .dataframe thead th {\n",
       "        text-align: right;\n",
       "    }\n",
       "</style>\n",
       "<table border=\"1\" class=\"dataframe\">\n",
       "  <thead>\n",
       "    <tr style=\"text-align: right;\">\n",
       "      <th>cut</th>\n",
       "      <th>clarity</th>\n",
       "      <th>Fair</th>\n",
       "      <th>Good</th>\n",
       "      <th>Ideal</th>\n",
       "      <th>Premium</th>\n",
       "      <th>Very Good</th>\n",
       "    </tr>\n",
       "  </thead>\n",
       "  <tbody>\n",
       "    <tr>\n",
       "      <th>0</th>\n",
       "      <td>I1</td>\n",
       "      <td>3703.5</td>\n",
       "      <td>3596.6</td>\n",
       "      <td>4335.7</td>\n",
       "      <td>3947.3</td>\n",
       "      <td>4078.2</td>\n",
       "    </tr>\n",
       "    <tr>\n",
       "      <th>1</th>\n",
       "      <td>IF</td>\n",
       "      <td>1912.3</td>\n",
       "      <td>4098.3</td>\n",
       "      <td>2272.9</td>\n",
       "      <td>3856.1</td>\n",
       "      <td>4396.2</td>\n",
       "    </tr>\n",
       "    <tr>\n",
       "      <th>2</th>\n",
       "      <td>SI1</td>\n",
       "      <td>4208.3</td>\n",
       "      <td>3689.5</td>\n",
       "      <td>3752.1</td>\n",
       "      <td>4455.3</td>\n",
       "      <td>3932.4</td>\n",
       "    </tr>\n",
       "    <tr>\n",
       "      <th>3</th>\n",
       "      <td>SI2</td>\n",
       "      <td>5173.9</td>\n",
       "      <td>4580.3</td>\n",
       "      <td>4756.0</td>\n",
       "      <td>5545.9</td>\n",
       "      <td>4988.7</td>\n",
       "    </tr>\n",
       "    <tr>\n",
       "      <th>4</th>\n",
       "      <td>VS1</td>\n",
       "      <td>4165.1</td>\n",
       "      <td>3801.4</td>\n",
       "      <td>3489.7</td>\n",
       "      <td>4485.5</td>\n",
       "      <td>3805.4</td>\n",
       "    </tr>\n",
       "    <tr>\n",
       "      <th>5</th>\n",
       "      <td>VS2</td>\n",
       "      <td>4174.7</td>\n",
       "      <td>4262.2</td>\n",
       "      <td>3284.6</td>\n",
       "      <td>4550.3</td>\n",
       "      <td>4215.8</td>\n",
       "    </tr>\n",
       "    <tr>\n",
       "      <th>6</th>\n",
       "      <td>VVS1</td>\n",
       "      <td>3871.4</td>\n",
       "      <td>2254.8</td>\n",
       "      <td>2468.1</td>\n",
       "      <td>2831.2</td>\n",
       "      <td>2459.4</td>\n",
       "    </tr>\n",
       "    <tr>\n",
       "      <th>7</th>\n",
       "      <td>VVS2</td>\n",
       "      <td>3349.8</td>\n",
       "      <td>3079.1</td>\n",
       "      <td>3250.3</td>\n",
       "      <td>3795.1</td>\n",
       "      <td>3037.8</td>\n",
       "    </tr>\n",
       "  </tbody>\n",
       "</table>\n",
       "</div>"
      ],
      "text/plain": [
       "cut clarity    Fair    Good   Ideal  Premium  Very Good\n",
       "0        I1  3703.5  3596.6  4335.7   3947.3     4078.2\n",
       "1        IF  1912.3  4098.3  2272.9   3856.1     4396.2\n",
       "2       SI1  4208.3  3689.5  3752.1   4455.3     3932.4\n",
       "3       SI2  5173.9  4580.3  4756.0   5545.9     4988.7\n",
       "4       VS1  4165.1  3801.4  3489.7   4485.5     3805.4\n",
       "5       VS2  4174.7  4262.2  3284.6   4550.3     4215.8\n",
       "6      VVS1  3871.4  2254.8  2468.1   2831.2     2459.4\n",
       "7      VVS2  3349.8  3079.1  3250.3   3795.1     3037.8"
      ]
     },
     "execution_count": 196,
     "metadata": {},
     "output_type": "execute_result"
    }
   ],
   "source": [
    "df_g3 = df.pivot_table(index = \"clarity\", columns = \"cut\", values = \"price\", aggfunc = \"mean\")\n",
    "df_g3 = df_g3.round(1).reset_index()\n",
    "df_g3"
   ]
  },
  {
   "cell_type": "code",
   "execution_count": 198,
   "id": "2b9215dc-ff40-4a65-b041-d7b23e34a24e",
   "metadata": {},
   "outputs": [],
   "source": [
    "df_bike = pd.read_csv(\"bike.csv\")\n",
    "df_b1 = df_bike.iloc[:4, 4:7]\n",
    "df_b2 = df_bike.iloc[1:5, 5:8]"
   ]
  },
  {
   "cell_type": "code",
   "execution_count": null,
   "id": "99315b70-2c76-4c06-89ce-05de7ab7bebb",
   "metadata": {},
   "outputs": [],
   "source": [
    "pd.concat([df_b1, df_b2])"
   ]
  },
  {
   "cell_type": "code",
   "execution_count": null,
   "id": "66d8c37c-139e-42a3-b859-fe46a89ddb05",
   "metadata": {},
   "outputs": [],
   "source": [
    "pd.concat([df_b1, df_b2], axis = 1)"
   ]
  },
  {
   "cell_type": "code",
   "execution_count": null,
   "id": "489191f9-4a47-4a39-9043-20aa800cf5e7",
   "metadata": {},
   "outputs": [],
   "source": [
    "pd.concat([df_b1, df_b2.reset_index(drop = True).add_suffix(\"_y\")], axis = 1)"
   ]
  },
  {
   "cell_type": "code",
   "execution_count": null,
   "id": "89c1f4ef-95b2-4f2f-9cfc-b1cb4e0d9184",
   "metadata": {},
   "outputs": [],
   "source": []
  },
  {
   "cell_type": "code",
   "execution_count": null,
   "id": "0d7e9810-d71b-4490-bd71-1e6d5ba20901",
   "metadata": {},
   "outputs": [],
   "source": [
    "df.head(20)"
   ]
  },
  {
   "cell_type": "code",
   "execution_count": 216,
   "id": "9e9bda9c-e25d-4476-afba-88d2f3d35c1f",
   "metadata": {},
   "outputs": [
    {
     "data": {
      "text/html": [
       "<div>\n",
       "<style scoped>\n",
       "    .dataframe tbody tr th:only-of-type {\n",
       "        vertical-align: middle;\n",
       "    }\n",
       "\n",
       "    .dataframe tbody tr th {\n",
       "        vertical-align: top;\n",
       "    }\n",
       "\n",
       "    .dataframe thead th {\n",
       "        text-align: right;\n",
       "    }\n",
       "</style>\n",
       "<table border=\"1\" class=\"dataframe\">\n",
       "  <thead>\n",
       "    <tr style=\"text-align: right;\">\n",
       "      <th></th>\n",
       "      <th>color</th>\n",
       "      <th>price</th>\n",
       "    </tr>\n",
       "  </thead>\n",
       "  <tbody>\n",
       "    <tr>\n",
       "      <th>0</th>\n",
       "      <td>E</td>\n",
       "      <td>329.0</td>\n",
       "    </tr>\n",
       "    <tr>\n",
       "      <th>1</th>\n",
       "      <td>H</td>\n",
       "      <td>337.5</td>\n",
       "    </tr>\n",
       "    <tr>\n",
       "      <th>2</th>\n",
       "      <td>I</td>\n",
       "      <td>335.0</td>\n",
       "    </tr>\n",
       "    <tr>\n",
       "      <th>3</th>\n",
       "      <td>J</td>\n",
       "      <td>335.5</td>\n",
       "    </tr>\n",
       "  </tbody>\n",
       "</table>\n",
       "</div>"
      ],
      "text/plain": [
       "  color  price\n",
       "0     E  329.0\n",
       "1     H  337.5\n",
       "2     I  335.0\n",
       "3     J  335.5"
      ]
     },
     "execution_count": 216,
     "metadata": {},
     "output_type": "execute_result"
    }
   ],
   "source": [
    "df_g1 = df.head(10).groupby(\"color\")[\"price\"].mean().reset_index()\n",
    "df_g1"
   ]
  },
  {
   "cell_type": "code",
   "execution_count": null,
   "id": "ddf17483-39da-482a-b31b-2c571760c344",
   "metadata": {},
   "outputs": [],
   "source": [
    "df_g2 = df.groupby(\"color\")[\"carat\"].max().reset_index()\n",
    "df_g2"
   ]
  },
  {
   "cell_type": "code",
   "execution_count": null,
   "id": "3c3a4472-ea3c-4687-8e96-72856e01d82f",
   "metadata": {},
   "outputs": [],
   "source": [
    "df_join1 = pd.merge(df_g1,             df_g2, \n",
    "                    left_on = \"color\", right_on = \"color\", how = \"inner\")\n",
    "df_join1"
   ]
  },
  {
   "cell_type": "code",
   "execution_count": 219,
   "id": "2fecdf75-9b45-4029-8ebb-b43bf679a75b",
   "metadata": {},
   "outputs": [
    {
     "data": {
      "text/html": [
       "<div>\n",
       "<style scoped>\n",
       "    .dataframe tbody tr th:only-of-type {\n",
       "        vertical-align: middle;\n",
       "    }\n",
       "\n",
       "    .dataframe tbody tr th {\n",
       "        vertical-align: top;\n",
       "    }\n",
       "\n",
       "    .dataframe thead th {\n",
       "        text-align: right;\n",
       "    }\n",
       "</style>\n",
       "<table border=\"1\" class=\"dataframe\">\n",
       "  <thead>\n",
       "    <tr style=\"text-align: right;\">\n",
       "      <th></th>\n",
       "      <th>color</th>\n",
       "      <th>carat</th>\n",
       "      <th>price</th>\n",
       "    </tr>\n",
       "  </thead>\n",
       "  <tbody>\n",
       "    <tr>\n",
       "      <th>0</th>\n",
       "      <td>D</td>\n",
       "      <td>3.40</td>\n",
       "      <td>NaN</td>\n",
       "    </tr>\n",
       "    <tr>\n",
       "      <th>1</th>\n",
       "      <td>E</td>\n",
       "      <td>3.05</td>\n",
       "      <td>329.0</td>\n",
       "    </tr>\n",
       "    <tr>\n",
       "      <th>2</th>\n",
       "      <td>F</td>\n",
       "      <td>3.01</td>\n",
       "      <td>NaN</td>\n",
       "    </tr>\n",
       "    <tr>\n",
       "      <th>3</th>\n",
       "      <td>G</td>\n",
       "      <td>3.01</td>\n",
       "      <td>NaN</td>\n",
       "    </tr>\n",
       "    <tr>\n",
       "      <th>4</th>\n",
       "      <td>H</td>\n",
       "      <td>4.13</td>\n",
       "      <td>337.5</td>\n",
       "    </tr>\n",
       "    <tr>\n",
       "      <th>5</th>\n",
       "      <td>I</td>\n",
       "      <td>4.01</td>\n",
       "      <td>335.0</td>\n",
       "    </tr>\n",
       "    <tr>\n",
       "      <th>6</th>\n",
       "      <td>J</td>\n",
       "      <td>5.01</td>\n",
       "      <td>335.5</td>\n",
       "    </tr>\n",
       "  </tbody>\n",
       "</table>\n",
       "</div>"
      ],
      "text/plain": [
       "  color  carat  price\n",
       "0     D   3.40    NaN\n",
       "1     E   3.05  329.0\n",
       "2     F   3.01    NaN\n",
       "3     G   3.01    NaN\n",
       "4     H   4.13  337.5\n",
       "5     I   4.01  335.0\n",
       "6     J   5.01  335.5"
      ]
     },
     "execution_count": 219,
     "metadata": {},
     "output_type": "execute_result"
    }
   ],
   "source": [
    "df_join2 = pd.merge(df_g2, df_g1, on = \"color\", how = \"left\")\n",
    "df_join2"
   ]
  },
  {
   "cell_type": "code",
   "execution_count": 225,
   "id": "0033772b-85be-4065-93d3-e98cb1125b5a",
   "metadata": {},
   "outputs": [],
   "source": [
    "def udf_1(x):\n",
    "    return x.sum() + 10000"
   ]
  },
  {
   "cell_type": "code",
   "execution_count": null,
   "id": "dfefc928-4b15-4cca-8a00-88672a54ebae",
   "metadata": {},
   "outputs": [],
   "source": [
    "df.groupby(\"cut\")[\"carat\"].agg(udf_1)"
   ]
  },
  {
   "cell_type": "code",
   "execution_count": 227,
   "id": "8a2fc138-1af0-4bf1-9440-dd5c9023f79b",
   "metadata": {},
   "outputs": [
    {
     "data": {
      "text/plain": [
       "cut\n",
       "Fair         11684.28\n",
       "Good         14166.10\n",
       "Ideal        25146.84\n",
       "Premium      22300.95\n",
       "Very Good    19742.70\n",
       "Name: carat, dtype: float64"
      ]
     },
     "execution_count": 227,
     "metadata": {},
     "output_type": "execute_result"
    }
   ],
   "source": [
    "df.groupby(\"cut\")[\"carat\"].agg(lambda x: x.sum() + 10000)"
   ]
  },
  {
   "cell_type": "code",
   "execution_count": null,
   "id": "9dc4a165-5ea7-41cf-b0fc-5d5b3d4f0a7b",
   "metadata": {},
   "outputs": [],
   "source": []
  }
 ],
 "metadata": {
  "kernelspec": {
   "display_name": "Python 3 (ipykernel)",
   "language": "python",
   "name": "python3"
  },
  "language_info": {
   "codemirror_mode": {
    "name": "ipython",
    "version": 3
   },
   "file_extension": ".py",
   "mimetype": "text/x-python",
   "name": "python",
   "nbconvert_exporter": "python",
   "pygments_lexer": "ipython3",
   "version": "3.11.9"
  }
 },
 "nbformat": 4,
 "nbformat_minor": 5
}
